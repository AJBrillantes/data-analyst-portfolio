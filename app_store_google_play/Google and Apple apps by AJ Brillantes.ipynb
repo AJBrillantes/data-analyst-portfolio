{
 "cells": [
  {
   "cell_type": "markdown",
   "metadata": {},
   "source": [
    "# Profitable App Profiles for the App Store and Google Play Markets\n",
    "\n",
    "**About the company** \n",
    "\n",
    "Mobile Free is a company that builds mobile apps for Android and iOS users. All the company's apps are in English and are free to download on the App Store and on Google Play. \n",
    "\n",
    "**About this project**\n",
    "\n",
    "Since the main source of revenue for the company are in-app ads, the profit that the company makes is proportional to the amount of users who engage with those ads. Thus, it is desirable that more users are able to see and engage with the in-app ads to generate more revenue. The purpose of this project is to determine which types of apps are more likely to attract more users. \n",
    "\n",
    "This project was accomplished as part of [Dataquest's](https://www.dataquest.io/) Data Analyst Path.\n",
    "\n",
    "**Results**\n",
    "\n",
    "A recommendation was made for a Travel app profile. It was determined that apps under this genre are quite popular and are able to attract a substantial amount of users. The specific features of the app recommendation, which include showing local tourist destinations and generating itinerary options, were selected due to minimal competition among the apps for both the App Store and Google Play markets. This can boost chances for user attraction and, subsequently, revenue generation."
   ]
  },
  {
   "cell_type": "markdown",
   "metadata": {},
   "source": [
    "# Exploring the datasets\n",
    "\n",
    "Two samples of data, collected from apps available on the App Store and on Google Play, will be used. \n",
    "\n",
    "* The data set containing about seven thousand iOS apps from the App Store can be downloaded from [this link](https://www.kaggle.com/ramamet4/app-store-apple-data-set-10k-apps/home). \n",
    "\n",
    "* The data set containing about ten thousand Android apps from Google Play can be downloaded from [this link](https://www.kaggle.com/lava18/google-play-store-apps). \n",
    "\n",
    "Below, the data sets are opened and are converted to two separate lists of lists, one for Android apps and one for iOS apps. \n",
    "\n",
    "**NOTE**: The headers for each data set are separated. This is to avoid any errors later on in the data cleaning and data analysis process. The headers are printed after both data sets are converted. "
   ]
  },
  {
   "cell_type": "code",
   "execution_count": 1,
   "metadata": {},
   "outputs": [
    {
     "name": "stdout",
     "output_type": "stream",
     "text": [
      "Android apps header\n",
      "\n",
      "\n",
      "['App', 'Category', 'Rating', 'Reviews', 'Size', 'Installs', 'Type', 'Price', 'Content Rating', 'Genres', 'Last Updated', 'Current Ver', 'Android Ver']\n",
      "\n",
      "\n",
      "iOS apps header\n",
      "\n",
      "\n",
      "['id', 'track_name', 'size_bytes', 'currency', 'price', 'rating_count_tot', 'rating_count_ver', 'user_rating', 'user_rating_ver', 'ver', 'cont_rating', 'prime_genre', 'sup_devices.num', 'ipadSc_urls.num', 'lang.num', 'vpp_lic']\n"
     ]
    }
   ],
   "source": [
    "from csv import reader\n",
    "\n",
    "# Android apps data set\n",
    "open_ggl = open('googleplaystore.csv', encoding='utf8')\n",
    "read_ggl = reader(open_ggl)\n",
    "ggl_apps = list(read_ggl)\n",
    "ggl_header = ggl_apps[0] # header for the Android apps data set\n",
    "ggl_apps = ggl_apps[1:] \n",
    "\n",
    "\n",
    "# iOS apps data set\n",
    "open_apl = open('AppleStore.csv', encoding='utf8')\n",
    "read_apl = reader(open_apl)\n",
    "apl_apps = list(read_apl)\n",
    "apl_header = apl_apps[0] # header for the iOS apps data set\n",
    "apl_apps = apl_apps[1:]\n",
    "\n",
    "# Printing the headers of both data sets\n",
    "print('Android apps header')\n",
    "print('\\n') # This creates a space between two lines for better readability\n",
    "print(ggl_header)\n",
    "print('\\n') \n",
    "print('iOS apps header')\n",
    "print('\\n')\n",
    "print(apl_header)"
   ]
  },
  {
   "cell_type": "markdown",
   "metadata": {},
   "source": [
    "To explore the converted data sets (headers not included), a function is created that prints the rows specified by the arguments taken in by the `start` and `end` parameters. The total number of rows and columns are printed when the `rows_and_columns` parameter takes in an argument of Boolean `True`. A default argument of `False` is specified in the function. \n",
    "\n",
    "The first three rows of each data set are printed to demonstrate how the function works. The total number of rows and columns for each data set are also printed. "
   ]
  },
  {
   "cell_type": "code",
   "execution_count": 2,
   "metadata": {},
   "outputs": [
    {
     "name": "stdout",
     "output_type": "stream",
     "text": [
      "Android apps data set\n",
      "\n",
      "\n",
      "['Photo Editor & Candy Camera & Grid & ScrapBook', 'ART_AND_DESIGN', '4.1', '159', '19M', '10,000+', 'Free', '0', 'Everyone', 'Art & Design', 'January 7, 2018', '1.0.0', '4.0.3 and up']\n",
      "['Coloring book moana', 'ART_AND_DESIGN', '3.9', '967', '14M', '500,000+', 'Free', '0', 'Everyone', 'Art & Design;Pretend Play', 'January 15, 2018', '2.0.0', '4.0.3 and up']\n",
      "['U Launcher Lite – FREE Live Cool Themes, Hide Apps', 'ART_AND_DESIGN', '4.7', '87510', '8.7M', '5,000,000+', 'Free', '0', 'Everyone', 'Art & Design', 'August 1, 2018', '1.2.4', '4.0.3 and up']\n",
      "\n",
      "\n",
      "Number of rows: 10841\n",
      "Number of columns: 13\n",
      "\n",
      "\n",
      "iOS apps data set\n",
      "\n",
      "\n",
      "['284882215', 'Facebook', '389879808', 'USD', '0.0', '2974676', '212', '3.5', '3.5', '95.0', '4+', 'Social Networking', '37', '1', '29', '1']\n",
      "['389801252', 'Instagram', '113954816', 'USD', '0.0', '2161558', '1289', '4.5', '4.0', '10.23', '12+', 'Photo & Video', '37', '0', '29', '1']\n",
      "['529479190', 'Clash of Clans', '116476928', 'USD', '0.0', '2130805', '579', '4.5', '4.5', '9.24.12', '9+', 'Games', '38', '5', '18', '1']\n",
      "\n",
      "\n",
      "Number of rows: 7197\n",
      "Number of columns: 16\n"
     ]
    }
   ],
   "source": [
    "def explore_data(dataset, start, end, rows_and_columns=False):\n",
    "    dataset_slice = dataset[start:end]    \n",
    "    for row in dataset_slice:\n",
    "        print(row)\n",
    "        \n",
    "    if rows_and_columns:\n",
    "        print('\\n')\n",
    "        print('Number of rows:', len(dataset))\n",
    "        print('Number of columns:', len(dataset[0]))\n",
    "\n",
    "print('Android apps data set')   \n",
    "print('\\n')\n",
    "explore_data(ggl_apps, 0, 3, True) \n",
    "print('\\n')\n",
    "print('iOS apps data set') \n",
    "print('\\n')\n",
    "explore_data(apl_apps, 0, 3, True)        "
   ]
  },
  {
   "cell_type": "markdown",
   "metadata": {},
   "source": [
    "## Cleaning the data\n",
    "\n",
    "In order to conduct an analysis that will yield accurate results, it is necessary to \"clean\" the data set of entries that may contribute to erroneous conclusions. Data cleaning for this project will involve:\n",
    "\n",
    "- Removing inaccurate data\n",
    "- Removing duplicate entries\n",
    "- Removing non-english apps\n",
    "- Isolating free apps\n",
    "\n",
    "### Removing inaccurate data\n",
    "\n",
    "When the data set of Android apps is explored extensively, an error can be observed with the row of index 10472. "
   ]
  },
  {
   "cell_type": "code",
   "execution_count": 3,
   "metadata": {},
   "outputs": [
    {
     "name": "stdout",
     "output_type": "stream",
     "text": [
      "['App', 'Category', 'Rating', 'Reviews', 'Size', 'Installs', 'Type', 'Price', 'Content Rating', 'Genres', 'Last Updated', 'Current Ver', 'Android Ver']\n",
      "\n",
      "\n",
      "['Life Made WI-Fi Touchscreen Photo Frame', '1.9', '19', '3.0M', '1,000+', 'Free', '0', 'Everyone', '', 'February 11, 2018', '1.0.19', '4.0 and up']\n"
     ]
    }
   ],
   "source": [
    "print(ggl_header)\n",
    "print('\\n')\n",
    "print(ggl_apps[10472])"
   ]
  },
  {
   "cell_type": "markdown",
   "metadata": {},
   "source": [
    "From the printed lines above, the row with index 10472 lacks an entry for the **Category** column. The **Genres** column is also empty. Since on-hand information is not available to fill up the entries, this row will be deleted using the `del()` function. Removing this singular row will not have a significant impact on the analysis later on. \n",
    "\n",
    "After deleting the row, the new row assigned with the index is printed to show the change made. "
   ]
  },
  {
   "cell_type": "code",
   "execution_count": 4,
   "metadata": {},
   "outputs": [
    {
     "name": "stdout",
     "output_type": "stream",
     "text": [
      "['osmino Wi-Fi: free WiFi', 'TOOLS', '4.2', '134203', '4.1M', '10,000,000+', 'Free', '0', 'Everyone', 'Tools', 'August 7, 2018', '6.06.14', '4.4 and up']\n"
     ]
    }
   ],
   "source": [
    "del(ggl_apps[10472])\n",
    "print(ggl_apps[10472])"
   ]
  },
  {
   "cell_type": "markdown",
   "metadata": {},
   "source": [
    "# Removing duplicate entries\n",
    "\n",
    "Since the data set for iOS apps does not contain inaccurate data, the next step is to check whether the data sets have duplicate entries. \n",
    "\n",
    "The cell below contains code which scans the data set of Android apps for duplicates using a **for loop**. The names of the Android apps (which are in the column with index 0) are appended to the `unique_apps` list. If the loop comes across a name already in the previous list, this name is automatically appended to the `duplicate_apps` list. \n",
    "\n",
    "Once the loop is executed, the number of duplicate entries and some examples of them are printed. "
   ]
  },
  {
   "cell_type": "code",
   "execution_count": 5,
   "metadata": {},
   "outputs": [
    {
     "name": "stdout",
     "output_type": "stream",
     "text": [
      "Number of unique entries: 9659\n",
      "Number of duplicate entries: 1181\n",
      "\n",
      "\n",
      "Some duplicate app names:\n",
      "['Quick PDF Scanner + OCR FREE', 'Box', 'Google My Business', 'ZOOM Cloud Meetings', 'join.me - Simple Meetings', 'Box', 'Zenefits', 'Google Ads', 'Google My Business', 'Slack']\n"
     ]
    }
   ],
   "source": [
    "unique_apps_ggl = []\n",
    "duplicate_apps_ggl = []\n",
    "\n",
    "for row in ggl_apps:\n",
    "    name = row[0]\n",
    "    if name in unique_apps_ggl:\n",
    "        duplicate_apps_ggl.append(name)\n",
    "    else:\n",
    "        unique_apps_ggl.append(name)\n",
    "        \n",
    "print('Number of unique entries:', len(unique_apps_ggl)) \n",
    "print('Number of duplicate entries:', len(duplicate_apps_ggl)) \n",
    "print('\\n')\n",
    "\n",
    "print('Some duplicate app names:')\n",
    "print(duplicate_apps_ggl[0:10])"
   ]
  },
  {
   "cell_type": "markdown",
   "metadata": {},
   "source": [
    "It can be seen that there is quite a number of duplicate entries, 1181. To scrutinize the contents of these entries and to come up with a possible reason for their presence in the data set, entries with the app names of 'Slack' and 'Google Ads' are printed. "
   ]
  },
  {
   "cell_type": "code",
   "execution_count": 6,
   "metadata": {
    "scrolled": true
   },
   "outputs": [
    {
     "name": "stdout",
     "output_type": "stream",
     "text": [
      "Examples of duplicate entries:\n",
      "\n",
      "\n",
      "['Slack', 'BUSINESS', '4.4', '51507', 'Varies with device', '5,000,000+', 'Free', '0', 'Everyone', 'Business', 'August 2, 2018', 'Varies with device', 'Varies with device']\n",
      "['Slack', 'BUSINESS', '4.4', '51507', 'Varies with device', '5,000,000+', 'Free', '0', 'Everyone', 'Business', 'August 2, 2018', 'Varies with device', 'Varies with device']\n",
      "['Slack', 'BUSINESS', '4.4', '51510', 'Varies with device', '5,000,000+', 'Free', '0', 'Everyone', 'Business', 'August 2, 2018', 'Varies with device', 'Varies with device']\n",
      "\n",
      "\n",
      "['Google Ads', 'BUSINESS', '4.3', '29313', '20M', '5,000,000+', 'Free', '0', 'Everyone', 'Business', 'July 30, 2018', '1.12.0', '4.0.3 and up']\n",
      "['Google Ads', 'BUSINESS', '4.3', '29313', '20M', '5,000,000+', 'Free', '0', 'Everyone', 'Business', 'July 30, 2018', '1.12.0', '4.0.3 and up']\n",
      "['Google Ads', 'BUSINESS', '4.3', '29331', '20M', '5,000,000+', 'Free', '0', 'Everyone', 'Business', 'July 30, 2018', '1.12.0', '4.0.3 and up']\n"
     ]
    }
   ],
   "source": [
    "print('Examples of duplicate entries:')\n",
    "print('\\n')\n",
    "\n",
    "for row in ggl_apps:\n",
    "    name = row[0]\n",
    "    if name == 'Slack':\n",
    "        print(row)\n",
    "\n",
    "print('\\n')\n",
    "        \n",
    "for row in ggl_apps:\n",
    "    name = row[0]\n",
    "    if name == 'Google Ads':\n",
    "        print(row)"
   ]
  },
  {
   "cell_type": "markdown",
   "metadata": {},
   "source": [
    "The duplicate entries above show that the only difference among the entries is in the **number of reviews** for the app. A possible reason for this difference is that the entries could have been included in the data set at different times. \n",
    "\n",
    "As a criteria, only the entry among the duplicates with the **highest** number of reviews will be retained. This is because, most likely, this entry was the latest to be included in the data set. \n",
    "\n",
    "In order to do this, a **dictionary** is first created wherein the app name will be the dictionary key and the highest number of reviews will be the corresponding value. A **for loop** will loop through the entire data set and store the necessary data in the dictionary. In-line commments are present to better understand the code. \n",
    "\n",
    "The number of app names in the dictionary is printed afterwards. This number needs to be the same as that **Number of unique entries**, which is 9659. Note that non-duplicate apps are also included in the dictionary. "
   ]
  },
  {
   "cell_type": "code",
   "execution_count": 7,
   "metadata": {},
   "outputs": [
    {
     "name": "stdout",
     "output_type": "stream",
     "text": [
      "9659\n"
     ]
    }
   ],
   "source": [
    "reviews_max = {}\n",
    "\n",
    "for row in ggl_apps:\n",
    "    name = row[0]\n",
    "    n_reviews = float(row[3]) # The figures need to be converted to the float data type since they are stored as strings in the data set\n",
    "    if name in reviews_max and reviews_max[name] < n_reviews:\n",
    "        reviews_max[name] = n_reviews\n",
    "    elif name not in reviews_max: # An else statement cannot be used here since it can lead to the wrong value being assigned\n",
    "        reviews_max[name] = n_reviews\n",
    "        \n",
    "print(len(reviews_max))\n",
    " "
   ]
  },
  {
   "cell_type": "markdown",
   "metadata": {},
   "source": [
    "After the dictionary is created, an empty list, `ggl_clean`, which will contain the entries to be retained, is made. This list will be used in the next step of the data cleaning process.\n",
    "\n",
    "The dictionary serves as the reference for the entries to be retained. A **for loop** iterates through the Android apps data set and appends the pertinent entries to the empty list. \n",
    "\n",
    "The list `already_added` is needed to avoid appending the duplicate entries.\n",
    "\n",
    "The number of entries in the `ggl_clean` list is printed and should be equal to 9659."
   ]
  },
  {
   "cell_type": "code",
   "execution_count": 8,
   "metadata": {},
   "outputs": [
    {
     "name": "stdout",
     "output_type": "stream",
     "text": [
      "9659\n"
     ]
    }
   ],
   "source": [
    "ggl_clean = []\n",
    "already_added = []\n",
    "\n",
    "for row in ggl_apps:\n",
    "    name = row[0]\n",
    "    n_reviews = float(row[3])\n",
    "    if n_reviews == reviews_max[name] and name not in already_added:\n",
    "        ggl_clean.append(row)\n",
    "        already_added.append(name)\n",
    "        \n",
    "print(len(ggl_clean))"
   ]
  },
  {
   "cell_type": "markdown",
   "metadata": {},
   "source": [
    "For the iOS apps data set, it can be observed that there are two duplicate app names. Note that the index for the app names is 1."
   ]
  },
  {
   "cell_type": "code",
   "execution_count": 9,
   "metadata": {},
   "outputs": [
    {
     "name": "stdout",
     "output_type": "stream",
     "text": [
      "Number of unique entries: 7195\n",
      "Number of duplicate entries: 2\n",
      "\n",
      "\n",
      "Some duplicate app names:\n",
      "['Mannequin Challenge', 'VR Roller Coaster']\n"
     ]
    }
   ],
   "source": [
    "unique_apps_apl = []\n",
    "duplicate_apps_apl = []\n",
    "\n",
    "for row in apl_apps:\n",
    "    name = row[1]\n",
    "    if name in unique_apps_apl:\n",
    "        duplicate_apps_apl.append(name)\n",
    "    else:\n",
    "        unique_apps_apl.append(name)\n",
    "        \n",
    "print('Number of unique entries:', len(unique_apps_apl)) \n",
    "print('Number of duplicate entries:', len(duplicate_apps_apl)) \n",
    "print('\\n')\n",
    "\n",
    "print('Some duplicate app names:')\n",
    "print(duplicate_apps_apl[0:10])"
   ]
  },
  {
   "cell_type": "code",
   "execution_count": 10,
   "metadata": {},
   "outputs": [
    {
     "name": "stdout",
     "output_type": "stream",
     "text": [
      "Examples of duplicate entries:\n",
      "\n",
      "\n",
      "['1173990889', 'Mannequin Challenge', '109705216', 'USD', '0.0', '668', '87', '3.0', '3.0', '1.4', '9+', 'Games', '37', '4', '1', '1']\n",
      "['1178454060', 'Mannequin Challenge', '59572224', 'USD', '0.0', '105', '58', '4.0', '4.5', '1.0.1', '4+', 'Games', '38', '5', '1', '1']\n",
      "\n",
      "\n",
      "['952877179', 'VR Roller Coaster', '169523200', 'USD', '0.0', '107', '102', '3.5', '3.5', '2.0.0', '4+', 'Games', '37', '5', '1', '1']\n",
      "['1089824278', 'VR Roller Coaster', '240964608', 'USD', '0.0', '67', '44', '3.5', '4.0', '0.81', '4+', 'Games', '38', '0', '1', '1']\n"
     ]
    }
   ],
   "source": [
    "print('Examples of duplicate entries:')\n",
    "print('\\n')\n",
    "\n",
    "for row in apl_apps:\n",
    "    name = row[1]\n",
    "    if name == 'Mannequin Challenge':\n",
    "        print(row)\n",
    "\n",
    "print('\\n')\n",
    "        \n",
    "for row in apl_apps:\n",
    "    name = row[1]\n",
    "    if name == 'VR Roller Coaster':\n",
    "        print(row)"
   ]
  },
  {
   "cell_type": "markdown",
   "metadata": {},
   "source": [
    "However, when analyzing the rows with these app names, the differences can be observed in multiple columns instead of just one. From this, it can be deduced that these apps are not duplicate apps. Instead, these are very different apps which happen to have the same name."
   ]
  },
  {
   "cell_type": "markdown",
   "metadata": {},
   "source": [
    "# Removing Non-English apps\n",
    "\n",
    "Since Mobile Free produces only English apps, Non-English apps need to be removed as they are irrelevant for this project.\n",
    "\n",
    "To detect Non-English apps in the data set, a function needs to be created that checks whether or not a string contains characters not typically used in the English language. Characters have corresponding numbers associated with them and to check for these numbers, the built-in `ord()` function is used. \n",
    "\n",
    "The use of the function is demonstrated below. "
   ]
  },
  {
   "cell_type": "code",
   "execution_count": 11,
   "metadata": {},
   "outputs": [
    {
     "name": "stdout",
     "output_type": "stream",
     "text": [
      "97\n",
      "52\n",
      "35\n"
     ]
    }
   ],
   "source": [
    "print(ord('a'))\n",
    "print(ord('4'))\n",
    "print(ord('#'))"
   ]
  },
  {
   "cell_type": "markdown",
   "metadata": {},
   "source": [
    "From the American Standard Code for Information Interchange (ASCII), the characters that are commonly used in English texts have numbers equal to or less than 127.\n",
    "\n",
    "Despite this, there are some characters, such as emojis like 😜 or symbols like ™ that have numbers greater than 127. This complicates things as there are English texts which make use of characters such as these. \n",
    "\n",
    "To minimize data loss, a criteria can be set that strings which have more than three (3) characters of number greater than 127 shall be considered Non-English apps. Although this criteria is not perfect, it will suffice for the purposes of this project. \n",
    "\n",
    "With this in mind, a function below checks whether the following texts are English or not by taking in a string as an argument:\n",
    "\n",
    "- 'Docs To Go™ Free Office Suite'\n",
    "- 'Instachat 😜'\n",
    "- '爱奇艺PPS -《欢乐颂2》电视剧热播'\n",
    "\n",
    "Since strings are iterable, **for loops** can be used on them. "
   ]
  },
  {
   "cell_type": "code",
   "execution_count": 12,
   "metadata": {
    "scrolled": true
   },
   "outputs": [
    {
     "name": "stdout",
     "output_type": "stream",
     "text": [
      "English:  Docs To Go™ Free Office Suite\n",
      "English:  Instachat 😜\n",
      "Not English:  爱奇艺PPS -《欢乐颂2》电视剧热播\n"
     ]
    }
   ],
   "source": [
    "def english_apps(string):\n",
    "    count = 0\n",
    "    for char in string:\n",
    "        if ord(char) > 127:\n",
    "            count += 1\n",
    "            if count > 3:                \n",
    "                print('Not English: ', string)\n",
    "                break\n",
    "    if count <= 3:            \n",
    "        print('English: ', string)        \n",
    "\n",
    "english_apps('Docs To Go™ Free Office Suite')\n",
    "english_apps('Instachat 😜')\n",
    "english_apps('爱奇艺PPS -《欢乐颂2》电视剧热播')"
   ]
  },
  {
   "cell_type": "markdown",
   "metadata": {},
   "source": [
    "The function above can now be used to filter out non-English apps from both data sets. Two empty lists, `apl_english` and `ggl_english`, will be created and will contain the English apps. \n",
    "\n",
    "The previous function is slightly modified to take in the following arguments:\n",
    "\n",
    "- Cleaned data sets from the previous step (which removed duplicates)\n",
    "- Index number of the column containing the app names\n",
    "- The new data set to contain the English apps\n",
    "\n",
    "The modified function is intended to work for both data sets. It loops through the cleaned data sets and appends entries for English apps to the initially empty lists. \n",
    "\n",
    "Note that the `apl_apps` dataset is used since no new, cleaned data set was created from the previous step for iOS apps."
   ]
  },
  {
   "cell_type": "code",
   "execution_count": 13,
   "metadata": {},
   "outputs": [
    {
     "name": "stdout",
     "output_type": "stream",
     "text": [
      "English Google Play apps: 9614\n",
      "English App Store apps: 6183\n"
     ]
    }
   ],
   "source": [
    "apl_english = []\n",
    "ggl_english = []\n",
    "\n",
    "def english_apps(clean_dataset, name_index, eng_dataset):\n",
    "    for row in clean_dataset:\n",
    "        count = 0\n",
    "        for char in row[name_index]:\n",
    "            if ord(char) > 127:\n",
    "                count += 1\n",
    "                if count > 3:\n",
    "                    break \n",
    "        if count <= 3:\n",
    "            eng_dataset.append(row)\n",
    "\n",
    "english_apps(ggl_clean, 0, ggl_english)\n",
    "english_apps(apl_apps, 1, apl_english) # Note that the apl_apps dataset is used \n",
    "\n",
    "print('English Google Play apps:',len(ggl_english))\n",
    "print('English App Store apps:',len(apl_english))"
   ]
  },
  {
   "cell_type": "markdown",
   "metadata": {},
   "source": [
    "The number of remaining entries for both data sets are shown above after removing Non-English apps. "
   ]
  },
  {
   "cell_type": "markdown",
   "metadata": {},
   "source": [
    "# Isolating free apps\n",
    "\n",
    "The final step of the data cleaning process is to isolate the apps that are free. The cleaned data set resulting from this final step will be used for the succeeding analysis. \n",
    "\n",
    "Two empty lists, `apl_free` and `ggl_free`, are created below. Once these lists are filled, they will serve as the cleaned data sets just mentioned. \n",
    "\n",
    "The function below takes in three arguments:\n",
    "\n",
    "- The data set from the previous step containing only English apps \n",
    "- Index number of the column containing the price\n",
    "- The new data set to contain the free apps\n",
    "\n",
    "The function loops over the English apps data set and appends the row to the pertinent free apps list when the corresponding price is zero (0). "
   ]
  },
  {
   "cell_type": "code",
   "execution_count": 14,
   "metadata": {},
   "outputs": [
    {
     "name": "stdout",
     "output_type": "stream",
     "text": [
      "Free English Google Play apps: 8864\n",
      "Free English App Store apps: 3222\n"
     ]
    }
   ],
   "source": [
    "apl_free = []\n",
    "ggl_free = []\n",
    "\n",
    "def free_apps(eng_apps, price_index, free_dataset):\n",
    "    for row in eng_apps:\n",
    "        price = row[price_index]\n",
    "        if price == '0' or price == '0.0': \n",
    "            free_dataset.append(row)\n",
    "            \n",
    "free_apps(ggl_english, 7, ggl_free)            \n",
    "free_apps(apl_english, 4, apl_free)            \n",
    "\n",
    "print('Free English Google Play apps:',len(ggl_free))\n",
    "print('Free English App Store apps:',len(apl_free))"
   ]
  },
  {
   "cell_type": "markdown",
   "metadata": {},
   "source": [
    "The number of remaining apps for both data sets are shown above. "
   ]
  },
  {
   "cell_type": "markdown",
   "metadata": {},
   "source": [
    "# Analyzing the data\n",
    "\n",
    "Now that the data have been cleaned, it's time to move on to the analysis portion of the project. The results of the analysis will help Mobile Free in determining the kinds of apps that need to be focused on for development.\n",
    "\n",
    "### Validation Strategy\n",
    "\n",
    "The goal of the analysis is to find the app profiles that will be successful in both Google Play and the App Store. In order to do this, the following steps will comprise the validation strategy:\n",
    "\n",
    "- Add to Google Play an initial version of an Android app. This version will contain minimal and essential features. \n",
    "- Develop further the app if user response is positive. Additional features that will enhance user experience may be added. Any bugs will be fixed.\n",
    "- If, after six months, the app is profitable, an iOS version will be built and added to the App Store. \n",
    "\n",
    "### Most Popular Apps by Genre\n",
    "\n",
    "To start the analysis that will serve as the basis for carrying out the above strategy, the most common genres of apps for both data sets will be determined. This will done through the creation of frequency tables for each. \n",
    "\n",
    "Two functions are created to aid in this. The first function creates the actual frequency tables by taking in the pertinent final data set and the genre index as arguments. The `count` dictionary stores the genre type as the dictionary key and the number of instances it appears in the data set as the corresponding value. The values are then converted to percentages, for easier analysis, and stored in the `percent` dictionary. The `percent` dictionary is then returned when the `freq_table()` function is called."
   ]
  },
  {
   "cell_type": "code",
   "execution_count": 15,
   "metadata": {},
   "outputs": [],
   "source": [
    " def freq_table(dataset, index):\n",
    "    tot_count = 0\n",
    "    count = {}\n",
    "    for row in dataset:\n",
    "        tot_count += 1\n",
    "        if row[index] in count:\n",
    "            count[row[index]] += 1\n",
    "        elif row[index] not in count:\n",
    "            count[row[index]] = 1\n",
    "            \n",
    "    percent = {}\n",
    "    for entry in count:\n",
    "        percent[entry] = (count[entry]/tot_count) * 100\n",
    "        \n",
    "    return percent"
   ]
  },
  {
   "cell_type": "markdown",
   "metadata": {},
   "source": [
    "The second function's purpose is to display the contents of the `percent` dictionary in a readable manner and in order of percentage values from highest to lowest. After taking in the same arguments as the `freq_table()` function, the `display_table` function calls the former, loops through `percent` dictionary, and stores the entries as tuples. In each tuple, the percentage value comes first, followed by the dictionary key. The tuples are then appended to the `table_display` list. \n",
    "\n",
    "The tuple conversion is necessary as the `sorted()` function, which arranges the order of the entries, only works on the dictionary keys. The dictionary keys of the `percent` dictionary are the genre names, so the `sorted()` function will not work on it as intended. \n",
    "\n",
    "Once the `table_display` list is filled, the `sorted()` function arranges the entries in descending order. A **for loop** prints each entry in the intended order. \n",
    "\n",
    "For the cleaned iOS apps data set, the index number of the `prime_genre` column is 11. For the cleaned Android apps data set, there are two columns that can be analyzed: the `Category` column, with index 1, and the `Genres` column, with index 9. The `Genres` column is more specific than the `Category` column. As this project is concerned with a more general perspective of which kinds apps are popular, the `Category` column will be analyzed."
   ]
  },
  {
   "cell_type": "code",
   "execution_count": 16,
   "metadata": {},
   "outputs": [
    {
     "name": "stdout",
     "output_type": "stream",
     "text": [
      "App Store apps:\n",
      "Games : 58.16263190564867\n",
      "Entertainment : 7.883302296710118\n",
      "Photo & Video : 4.9658597144630665\n",
      "Education : 3.662321539416512\n",
      "Social Networking : 3.2898820608317814\n",
      "Shopping : 2.60707635009311\n",
      "Utilities : 2.5139664804469275\n",
      "Sports : 2.1415270018621975\n",
      "Music : 2.0484171322160147\n",
      "Health & Fitness : 2.0173805090006205\n",
      "Productivity : 1.7380509000620732\n",
      "Lifestyle : 1.5828677839851024\n",
      "News : 1.3345747982619491\n",
      "Travel : 1.2414649286157666\n",
      "Finance : 1.1173184357541899\n",
      "Weather : 0.8690254500310366\n",
      "Food & Drink : 0.8069522036002483\n",
      "Reference : 0.5586592178770949\n",
      "Business : 0.5276225946617008\n",
      "Book : 0.4345127250155183\n",
      "Navigation : 0.186219739292365\n",
      "Medical : 0.186219739292365\n",
      "Catalogs : 0.12414649286157665\n",
      "\n",
      "\n",
      "Google Play apps (Category):\n",
      "FAMILY : 18.907942238267147\n",
      "GAME : 9.724729241877256\n",
      "TOOLS : 8.461191335740072\n",
      "BUSINESS : 4.591606498194946\n",
      "LIFESTYLE : 3.9034296028880866\n",
      "PRODUCTIVITY : 3.892148014440433\n",
      "FINANCE : 3.7003610108303246\n",
      "MEDICAL : 3.531137184115524\n",
      "SPORTS : 3.395758122743682\n",
      "PERSONALIZATION : 3.3167870036101084\n",
      "COMMUNICATION : 3.2378158844765346\n",
      "HEALTH_AND_FITNESS : 3.0798736462093865\n",
      "PHOTOGRAPHY : 2.944494584837545\n",
      "NEWS_AND_MAGAZINES : 2.7978339350180503\n",
      "SOCIAL : 2.6624548736462095\n",
      "TRAVEL_AND_LOCAL : 2.33528880866426\n",
      "SHOPPING : 2.2450361010830324\n",
      "BOOKS_AND_REFERENCE : 2.1435018050541514\n",
      "DATING : 1.861462093862816\n",
      "VIDEO_PLAYERS : 1.7937725631768955\n",
      "MAPS_AND_NAVIGATION : 1.3989169675090252\n",
      "FOOD_AND_DRINK : 1.2409747292418771\n",
      "EDUCATION : 1.1620036101083033\n",
      "ENTERTAINMENT : 0.9589350180505415\n",
      "LIBRARIES_AND_DEMO : 0.9363718411552346\n",
      "AUTO_AND_VEHICLES : 0.9250902527075812\n",
      "HOUSE_AND_HOME : 0.8235559566787004\n",
      "WEATHER : 0.8009927797833934\n",
      "EVENTS : 0.7107400722021661\n",
      "PARENTING : 0.6543321299638989\n",
      "ART_AND_DESIGN : 0.6430505415162455\n",
      "COMICS : 0.6204873646209386\n",
      "BEAUTY : 0.5979241877256317\n"
     ]
    }
   ],
   "source": [
    "def display_table(dataset, index):\n",
    "    \n",
    "    table = freq_table(dataset, index)\n",
    "    table_display = []\n",
    "    for key in table:\n",
    "        key_val_as_tuple = (table[key], key)\n",
    "        table_display.append(key_val_as_tuple)\n",
    "\n",
    "    table_sorted = sorted(table_display, reverse = True)\n",
    "    for entry in table_sorted:\n",
    "        print(entry[1], ':', entry[0])\n",
    "\n",
    "print('App Store apps:')\n",
    "display_table(apl_free, 11)\n",
    "print('\\n')\n",
    "print('Google Play apps (Category):')\n",
    "display_table(ggl_free, 1)"
   ]
  },
  {
   "cell_type": "markdown",
   "metadata": {},
   "source": [
    "As can be seen from the results above, majority of the apps in the App Store fall under the Games genre at 58.16%. This is followed by Entertainment at 7.88% and Photo & Video at 4.97%. It can be deduced from this that most apps in the App Store are catered towards leisure and entertainment. More practical apps, such as those under Utilities, Productivity, and Finance, comprise a much smaller portion of the app population. The distribution of genres in the above list also corroborates this as most apps on the lower half, which have small percentages, are for practical purposes.                                         \n",
    "\n",
    "For the Google Play apps (Category) list, the results are more distributed rather than dominated by a single genre. There appears to be a more balanced mix between apps catered for leisure and entertainment and apps catered for practical purposes. Although fun apps are still at the top two places, the percentages are not as large as those in the App Store list. \n",
    "\n",
    "Despite knowing the amount of apps, by genre, present in the data sets, this is still not enough to determine which ones attract the most users. It can be the case that the App Store is saturated with gaming apps but these apps don't garner that many users as the others. To figure this out, further analysis of the data sets will be done."
   ]
  },
  {
   "cell_type": "markdown",
   "metadata": {},
   "source": [
    "# Most Popular Apps by Genre: App Store\n",
    "\n",
    "In order to determine the kinds of apps that attract the most users, the actual number of people that use such apps needs to be determined. The Google Play data set makes this easier through the `Installs` column. As this is not present in the App Store, another column will be used as a substitute. The closest that can be used is the `rating_count_tot` column, which contains the total number of user ratings per app. \n",
    "\n",
    "As each app per genre contains varied amounts for the user ratings, the average per app per genre will be computed. This will then be used to determine the popularity of the apps by genre.  \n",
    "\n",
    "In the `ratings_per_genre()` function below, the following arguments are taken:\n",
    "\n",
    "- The pertinent final data set\n",
    "- The index of the `prime_genre` column\n",
    "- The index of the `rating_count_tot` column\n",
    "\n",
    "A frequency table for the genres is first generated. \n",
    "\n",
    "A **nested for loop** is then created to compute the average number of user ratings per app per genre. The *outer* **for loop** loops through the `genre_list` dictionary. Two variables, `total` and `len_genre` are then initiated with values of 0. In-line comments describe the variables. \n",
    "\n",
    "While the *outer* **for loop** is at a specific genre in the `genre_list` dictionary, the inner **for loop** loops through the data set and checks whether the genre of a specific app is equal to the current genre the *outer* loop is at. If this checks out, the values of the `total` and `len_genre` variables are increased accordingly. Please note that the `num_ratings` variable needs to be converted to a *float* type since it is stored as a string in the CSV file. \n",
    "\n",
    "Once the *inner* loop has finished its task, the average number of user ratings per app per genre is computed by dividing the total number of user ratings per genre by the total number of apps per genre. The genre name and the average number of user ratings are added to the `genre_ave` dictionary. The process is repeated until all genres in the `genre_list` dictionary have been looped through.\n",
    "\n",
    "To show the contents of the `genre_ave` dictionary in descending order, the `display_table()` function is slightly modified to take in the same arguments as the `ratings_per_genre()` function. The name is also changed to `display_table_genre()` to avoid confusion and for correct execution of the code. \n",
    "\n",
    "The results of the operation are shown."
   ]
  },
  {
   "cell_type": "code",
   "execution_count": 17,
   "metadata": {},
   "outputs": [
    {
     "name": "stdout",
     "output_type": "stream",
     "text": [
      "Navigation : 86090.33333333333\n",
      "Reference : 74942.11111111111\n",
      "Social Networking : 71548.34905660378\n",
      "Music : 57326.530303030304\n",
      "Weather : 52279.892857142855\n",
      "Book : 39758.5\n",
      "Food & Drink : 33333.92307692308\n",
      "Finance : 31467.944444444445\n",
      "Photo & Video : 28441.54375\n",
      "Travel : 28243.8\n",
      "Shopping : 26919.690476190477\n",
      "Health & Fitness : 23298.015384615384\n",
      "Sports : 23008.898550724636\n",
      "Games : 22788.6696905016\n",
      "News : 21248.023255813954\n",
      "Productivity : 21028.410714285714\n",
      "Utilities : 18684.456790123455\n",
      "Lifestyle : 16485.764705882353\n",
      "Entertainment : 14029.830708661417\n",
      "Business : 7491.117647058823\n",
      "Education : 7003.983050847458\n",
      "Catalogs : 4004.0\n",
      "Medical : 612.0\n"
     ]
    }
   ],
   "source": [
    " def ratings_per_genre(dataset, genre_index, ratings_index):\n",
    "    genre_list = {}\n",
    "    for row in dataset:\n",
    "        if row[genre_index] in genre_list:\n",
    "            genre_list[row[genre_index]] += 1\n",
    "        elif row[genre_index] not in genre_list:\n",
    "            genre_list[row[genre_index]] = 1\n",
    "    \n",
    "    # nested for loop\n",
    "    genre_ave = {}   \n",
    "    for genre in genre_list:\n",
    "        total = 0 # This variable will store the sum of user ratings specific to each genre.\n",
    "        len_genre = 0 # This variable will store the number of apps specific to each genre\n",
    "        for row in dataset:\n",
    "            genre_app = row[genre_index]\n",
    "            if genre_app == genre:\n",
    "                num_ratings = row[ratings_index]\n",
    "                total += float(num_ratings)\n",
    "                len_genre += 1\n",
    "        ave = total/len_genre\n",
    "        genre_ave[genre] = ave\n",
    "    return genre_ave\n",
    "\n",
    "def display_table_genre(dataset, genre_index, ratings_index):\n",
    "    \n",
    "    table = ratings_per_genre(dataset, genre_index, ratings_index)\n",
    "    table_display = []\n",
    "    for key in table:\n",
    "        key_val_as_tuple = (table[key], key)\n",
    "        table_display.append(key_val_as_tuple)\n",
    "\n",
    "    table_sorted = sorted(table_display, reverse = True)\n",
    "    for entry in table_sorted:\n",
    "        print(entry[1], ':', entry[0])        \n",
    "        \n",
    "display_table_genre(apl_free, 11, 5)      "
   ]
  },
  {
   "cell_type": "markdown",
   "metadata": {},
   "source": [
    "As can be seen from the results above, Navigation apps are those with the highest average for number of user ratings. Gaming apps, which were at the top of list for their percent share in the App Store, fall in 14th place in the list above. It is impressive to note that even at only a 0.186% share in the App Store, Navigation apps manage to get an average of 86,090.33 ratings per app. Although this appears striking at first, it would be good to see what apps comprise this genre.\n",
    "\n",
    "To see the apps under the Navigation genre and the corresponding number of ratings, a **for loop** is created below. "
   ]
  },
  {
   "cell_type": "code",
   "execution_count": 18,
   "metadata": {
    "scrolled": true
   },
   "outputs": [
    {
     "name": "stdout",
     "output_type": "stream",
     "text": [
      "Waze - GPS Navigation, Maps & Real-time Traffic : 345046\n",
      "Google Maps - Navigation & Transit : 154911\n",
      "Geocaching® : 12811\n",
      "CoPilot GPS – Car Navigation & Offline Maps : 3582\n",
      "ImmobilienScout24: Real Estate Search in Germany : 187\n",
      "Railway Route Search : 5\n"
     ]
    }
   ],
   "source": [
    "for row in apl_free:\n",
    "    if row[11] == 'Navigation':\n",
    "        print(row[1], ':', row[5])"
   ]
  },
  {
   "cell_type": "markdown",
   "metadata": {},
   "source": [
    "The results show that there are only six (6) apps under the Navigation genre. The high value of the average user rating is skewed by the top apps of Waze and Google Maps. As it looks, Navigation apps might not be that popular in general since only two apps get significant attention.  \n",
    "\n",
    "Based on the results, it would not be practical for Mobile Free to enter the market for Navigation apps due to the stiff competition already present. With only a few apps under Navigation, it would be resource-intensive to gain a substantial user base in a market dominated by only two apps. Moreover, since revenue comes only from in-app ads, it would take a significant amount of time before a return on investment happens given the initital effort that needs to be done. The time could have been spent on more productive efforts. \n",
    "\n",
    "The same scenario of a few apps dominating the market can be seen in the genres of Reference, Social Networking, and Music with apps like Bible, Facebook, and Pandora topping the lists, respectively. "
   ]
  },
  {
   "cell_type": "code",
   "execution_count": 19,
   "metadata": {},
   "outputs": [
    {
     "name": "stdout",
     "output_type": "stream",
     "text": [
      "iOS Travel apps\n",
      "Google Earth : 446185\n",
      "Yelp - Nearby Restaurants, Shopping & Services : 223885\n",
      "GasBuddy : 145549\n",
      "TripAdvisor Hotels Flights Restaurants : 56194\n",
      "Uber : 49466\n",
      "Lyft : 46922\n",
      "HotelTonight - Great Deals on Last Minute Hotels : 32341\n",
      "Hotels & Vacation Rentals by Booking.com : 31261\n",
      "Southwest Airlines : 30552\n",
      "Airbnb : 22302\n",
      "Expedia Hotels, Flights & Vacation Package Deals : 10278\n",
      "Fly Delta : 8094\n",
      "Hopper - Predict, Watch & Book Flights : 6944\n",
      "United Airlines : 5748\n",
      "Skiplagged — Actually Cheap Flights & Hotels : 1851\n",
      "Viator Tours & Activities : 1839\n",
      "iExit Interstate Exit Guide : 1798\n",
      "Gogo Entertainment : 1482\n",
      "Google Street View : 1450\n",
      "Webcams – EarthCam : 912\n",
      "HISTORY Here : 685\n",
      "DB Navigator : 512\n",
      "Mobike - Dockless Bike Share : 494\n",
      "MiFlight™ – Airport security line wait times at checkpoints for domestic and international travelers : 493\n",
      "BlaBlaCar - Trusted Carpooling : 397\n",
      "Six Flags : 353\n",
      "Google Trips – Travel planner : 329\n",
      "Voyages-sncf.com : book train and bus tickets : 268\n",
      "Trainline UK: Live Train Times, Tickets & Planner : 248\n",
      "Urlaubspiraten : 188\n",
      "铁路12306 : 177\n",
      "Ryanair - Cheapest Fares : 175\n",
      "飞猪 : 154\n",
      "Fleet Air Travel Guide & Airport Directory : 105\n",
      "FlixBus - bus travel in Europe : 92\n",
      "Ab in den Urlaub – Pauschalreisen günstig buchen : 22\n",
      "SNCF : 7\n",
      "skyticket - Reserve Best Valued Air Tickets : 0\n",
      "Fluege.de - Finde den billigsten Flug : 0\n",
      "VoiceTra(Voice Translator) : 0\n"
     ]
    }
   ],
   "source": [
    "print('iOS Travel apps')\n",
    "for row in apl_free:\n",
    "    if row[11] == 'Travel':\n",
    "        print(row[1], ':', row[5])"
   ]
  },
  {
   "cell_type": "markdown",
   "metadata": {},
   "source": [
    "Checking the apps under the Travel genre, Google Earth tops with 446,185 user ratings. When a closer look is taken though, it can be observed that a variety of other apps with different purposes are present. There are apps for checking, booking, and managing reservations for hotels, restaurants, and flights. Ride-hailing services like Uber and Lyft are also present in the list. There are also apps focused on specific regions, such as Trainline UK and FlixBus which focus on train and bus travel. \n",
    "\n",
    "From the different user ratings, it can be said that Travel apps are popular enough to have a substantial user base. \n",
    "Aside from those at the top three positions of the list, the number of average user ratings seems fairly distributed with the rest of the apps. With the variety of the different Travel apps, there is potential in building an app that might stand out. Even the top three apps serve different purposes from each other.\n",
    "\n",
    "A potential app that can be built by Mobile Free is as an app that allows travelers to check local tourist destinations for a specific area. They can input a certain location or select from those available in the app, say Honolulu, Hawaii. The app can then recommend popular attractions in the locale, complete with a description, reviews, pictures, and things to do per destination. Filters, such as budget or price, popularity ratings, proximity from the location, among others, can be used to cater the results towards the specific needs of the traveler. An automatic itinerary generator can then show various itinerary options based on the user input. \n",
    "\n",
    "If user response is positive, additional features can be added. Instead of having to rely on third party apps, users can use Mobile Free's app for recommendations on accommodation and travel packages while also accounting for filters. \n",
    "\n",
    "Since the App Store is saturated with apps for leisure and entertainment, this app profile recommendation can have a better chance of standing out."
   ]
  },
  {
   "cell_type": "markdown",
   "metadata": {},
   "source": [
    "# Most Popular Apps by genre: Google Store \n",
    "\n",
    "As previously mentioned, the Google Play data set makes determining popular apps easier through the `Installs` column. Looking at this column though, it can be noticed that the values are not exact. \n",
    "\n",
    "Below, it can be seen that the values for installs per app are open-ended values. Accuracy of the values is not of primary concern though since focus is placed on the popularity of an app genre. The numbers will be left as is."
   ]
  },
  {
   "cell_type": "code",
   "execution_count": 20,
   "metadata": {
    "scrolled": true
   },
   "outputs": [
    {
     "name": "stdout",
     "output_type": "stream",
     "text": [
      "Photo Editor & Candy Camera & Grid & ScrapBook : 10,000+\n",
      "U Launcher Lite – FREE Live Cool Themes, Hide Apps : 5,000,000+\n",
      "Sketch - Draw & Paint : 50,000,000+\n",
      "Pixel Draw - Number Art Coloring Book : 100,000+\n",
      "Paper flowers instructions : 50,000+\n",
      "Smoke Effect Photo Maker - Smoke Editor : 50,000+\n",
      "Infinite Painter : 1,000,000+\n",
      "Garden Coloring Book : 1,000,000+\n",
      "Kids Paint Free - Drawing Fun : 10,000+\n",
      "Text on Photo - Fonteee : 1,000,000+\n"
     ]
    }
   ],
   "source": [
    "count = 0\n",
    "for row in ggl_free:\n",
    "    count += 1\n",
    "    print(row[0], ':', row[5])       \n",
    "    if count == 10:\n",
    "        break"
   ]
  },
  {
   "cell_type": "markdown",
   "metadata": {},
   "source": [
    "Below, two functions, which are practically the same as those created for the iOS apps data set for determining and displaying the average user ratings, are created. The only differences lie in the function names, the parameter names, some variable names, and the content of the `installs_per_genre()` function. Since the values under the `installs` column contain characters that are not numbers, these characters need to be removed first for the `float()` function to work properly. Other than what was mentioned, everything else is the same as the previous functions for the iOS apps data set. "
   ]
  },
  {
   "cell_type": "code",
   "execution_count": 21,
   "metadata": {},
   "outputs": [
    {
     "name": "stdout",
     "output_type": "stream",
     "text": [
      "COMMUNICATION : 38456119.167247385\n",
      "VIDEO_PLAYERS : 24727872.452830188\n",
      "SOCIAL : 23253652.127118643\n",
      "PHOTOGRAPHY : 17840110.40229885\n",
      "PRODUCTIVITY : 16787331.344927534\n",
      "GAME : 15588015.603248259\n",
      "TRAVEL_AND_LOCAL : 13984077.710144928\n",
      "ENTERTAINMENT : 11640705.88235294\n",
      "TOOLS : 10801391.298666667\n",
      "NEWS_AND_MAGAZINES : 9549178.467741935\n",
      "BOOKS_AND_REFERENCE : 8767811.894736841\n",
      "SHOPPING : 7036877.311557789\n",
      "PERSONALIZATION : 5201482.6122448975\n",
      "WEATHER : 5074486.197183099\n",
      "HEALTH_AND_FITNESS : 4188821.9853479853\n",
      "MAPS_AND_NAVIGATION : 4056941.7741935486\n",
      "FAMILY : 3695641.8198090694\n",
      "SPORTS : 3638640.1428571427\n",
      "ART_AND_DESIGN : 1986335.0877192982\n",
      "FOOD_AND_DRINK : 1924897.7363636363\n",
      "EDUCATION : 1833495.145631068\n",
      "BUSINESS : 1712290.1474201474\n",
      "LIFESTYLE : 1437816.2687861272\n",
      "FINANCE : 1387692.475609756\n",
      "HOUSE_AND_HOME : 1331540.5616438356\n",
      "DATING : 854028.8303030303\n",
      "COMICS : 817657.2727272727\n",
      "AUTO_AND_VEHICLES : 647317.8170731707\n",
      "LIBRARIES_AND_DEMO : 638503.734939759\n",
      "PARENTING : 542603.6206896552\n",
      "BEAUTY : 513151.88679245283\n",
      "EVENTS : 253542.22222222222\n",
      "MEDICAL : 120550.61980830671\n"
     ]
    }
   ],
   "source": [
    "def installs_per_genre(dataset, category_index, installs_index):\n",
    "    category_list = {}\n",
    "    for row in dataset:\n",
    "        if row[category_index] in category_list:\n",
    "            category_list[row[category_index]] += 1\n",
    "        elif row[category_index] not in category_list:\n",
    "            category_list[row[category_index]] = 1\n",
    "            \n",
    "    category_ave = {}    \n",
    "    for category in category_list:\n",
    "        total = 0 # This variable will store the sum of installs specific to each genre.\n",
    "        len_category = 0 # This variable will store the number of apps specific to each genre\n",
    "        for row in dataset:\n",
    "            category_app = row[category_index]\n",
    "            if category_app == category:\n",
    "                num_installs = row[installs_index]\n",
    "                num_installs = num_installs.replace('+','')\n",
    "                num_installs = num_installs.replace(',','')\n",
    "                total += float(num_installs)\n",
    "                len_category += 1\n",
    "        ave = total/len_category     \n",
    "        category_ave[category] = ave         \n",
    "    return category_ave\n",
    "        \n",
    "def display_table_installs(dataset, category_index, installs_index):\n",
    "    \n",
    "    table = installs_per_genre(dataset, category_index, installs_index)\n",
    "    table_display = []\n",
    "    for key in table:\n",
    "        key_val_as_tuple = (table[key], key)\n",
    "        table_display.append(key_val_as_tuple)\n",
    "\n",
    "    table_sorted = sorted(table_display, reverse = True)\n",
    "    for entry in table_sorted:\n",
    "        print(entry[1], ':', entry[0])        \n",
    "        \n",
    "display_table_installs(ggl_free, 1, 5)      "
   ]
  },
  {
   "cell_type": "markdown",
   "metadata": {},
   "source": [
    "From the list above, Communication apps come first with an average of 38,456,119.17 installs. Since the app profile recommendation for the App Store is a Travel app, the apps under the TRAVEL_AND_LOCAL category of Google Play will be analyzed. The goal of the project is determine an app profile for both the App Store and Google Play so this step is consistent with the objective. Analysis of the said category will determine whether a Travel app will be profitable for Mobile Free for both Android and iOS users.   "
   ]
  },
  {
   "cell_type": "code",
   "execution_count": 22,
   "metadata": {
    "scrolled": true
   },
   "outputs": [
    {
     "name": "stdout",
     "output_type": "stream",
     "text": [
      "Android Travel apps\n",
      "trivago: Hotels & Travel : 50,000,000+\n",
      "Hopper - Watch & Book Flights : 5,000,000+\n",
      "TripIt: Travel Organizer : 1,000,000+\n",
      "Trip by Skyscanner - City & Travel Guide : 500,000+\n",
      "CityMaps2Go Plan Trips Travel Guide Offline Maps : 1,000,000+\n",
      "KAYAK Flights, Hotels & Cars : 10,000,000+\n",
      "World Travel Guide by Triposo : 500,000+\n",
      "Booking.com Travel Deals : 100,000,000+\n",
      "Hostelworld: Hostels & Cheap Hotels Travel App : 1,000,000+\n",
      "Google Trips - Travel Planner : 5,000,000+\n",
      "GPS Map Free : 5,000,000+\n",
      "GasBuddy: Find Cheap Gas : 10,000,000+\n",
      "Southwest Airlines : 5,000,000+\n",
      "AT&T Navigator: Maps, Traffic : 10,000,000+\n",
      "VZ Navigator : 50,000,000+\n",
      "KakaoMap - Map / Navigation : 10,000,000+\n",
      "AirAsia : 10,000,000+\n",
      "Expedia Hotels, Flights & Car Rental Travel Deals : 10,000,000+\n",
      "Goibibo - Flight Hotel Bus Car IRCTC Booking App : 10,000,000+\n",
      "Allegiant : 1,000,000+\n",
      "Amtrak : 1,000,000+\n",
      "JAL (Domestic and international flights) : 1,000,000+\n",
      "Flight & Hotel Booking App - ixigo : 5,000,000+\n",
      "VZ Navigator for Tablets : 500,000+\n",
      "TripAdvisor Hotels Flights Restaurants Attractions : 100,000,000+\n",
      "HSL - Tickets, route planner and information : 100,000+\n",
      "Wisepilot for XPERIA™ : 5,000,000+\n",
      "VZ Navigator for Galaxy S4 : 5,000,000+\n",
      "MAIN : 1,000,000+\n",
      "Yoriza Pension - travel, lodging, pension, camping, caravan, pool villas accommodation discount : 1,000,000+\n",
      "Foursquare Swarm: Check In : 10,000,000+\n",
      "PagesJaunes - local search : 10,000,000+\n",
      "Flightradar24 Flight Tracker : 10,000,000+\n",
      "Yatra - Flights, Hotels, Bus, Trains & Cabs : 10,000,000+\n",
      "SNCF : 5,000,000+\n",
      "Fly Delta : 5,000,000+\n",
      "Skyscanner : 10,000,000+\n",
      "Despegar.com Hotels and Flights : 10,000,000+\n",
      "Navigation Plus : 1,000,000+\n",
      "2GIS: directory & navigator : 50,000,000+\n",
      "Poynt : 5,000,000+\n",
      "Gaode Map : 1,000,000+\n",
      "Priceline Hotel Deals, Rental Cars & Flights : 5,000,000+\n",
      "TravelPirates : 1,000,000+\n",
      "Free Radar Detector : 1,000,000+\n",
      "American Airlines : 5,000,000+\n",
      "Where to travel - ticket. hotel. train ticket. car ticket. travel. tickets : 1,000,000+\n",
      "United Airlines : 5,000,000+\n",
      "NTES : 10,000,000+\n",
      "Where is my Train : Indian Railway & PNR Status : 10,000,000+\n",
      "MakeMyTrip-Flight Hotel Bus Cab IRCTC Rail Booking : 10,000,000+\n",
      "Restaurant Finder : 1,000,000+\n",
      "Zagat : 100,000+\n",
      "Gormey: Find Best Restaurants : 1,000+\n",
      "Find Dining Restaurant Finder : 100,000+\n",
      "Urbanspoon Restaurant Reviews : 5,000,000+\n",
      "Yelp: Food, Shopping, Services Nearby : 10,000,000+\n",
      "Qatar Airways : 1,000,000+\n",
      "Hipmunk Hotels & Flights : 1,000,000+\n",
      "Skiplagged — Exclusive Flights & Hotels : 1,000,000+\n",
      "CWT To Go : 100,000+\n",
      "British Airways : 1,000,000+\n",
      "Cheap Flights & Hotels momondo : 5,000,000+\n",
      "CheapTickets – Hotels, Flights & Travel Deals : 1,000,000+\n",
      "JetBlue : 1,000,000+\n",
      "Flights : 1,000,000+\n",
      "Cheapflights – Flight Search : 5,000,000+\n",
      "KLM - Royal Dutch Airlines : 1,000,000+\n",
      "Orbitz - Hotels, Flights & Package Deals : 1,000,000+\n",
      "Lufthansa : 1,000,000+\n",
      "easyJet: Travel App : 10,000,000+\n",
      "IndiGo : 5,000,000+\n",
      "LateRooms: Find Hotel Deals : 1,000,000+\n",
      "Choice Hotels : 1,000,000+\n",
      "Couchsurfing Travel App : 1,000,000+\n",
      "Hotwire Hotel & Car Rental App : 1,000,000+\n",
      "HOTEL DEALS : 100,000+\n",
      "HomeAway Vacation Rentals : 5,000,000+\n",
      "IHG®: Hotel Deals & Rewards : 1,000,000+\n",
      "SPG: Starwood Hotels & Resorts : 1,000,000+\n",
      "Hotels.com: Book Hotel Rooms & Find Vacation Deals : 10,000,000+\n",
      "HotelTonight: Book amazing deals at great hotels : 5,000,000+\n",
      "Airbnb : 10,000,000+\n",
      "Hotels Combined - Cheap deals : 5,000,000+\n",
      "Agoda – Hotel Booking Deals : 10,000,000+\n",
      "Turo - Better Than Car Rental : 1,000,000+\n",
      "Ascape VR: 360° Virtual Travel : 100,000+\n",
      "Cheap hotel deals and discounts — Hotellook : 1,000,000+\n",
      "Maps - Navigate & Explore : 1,000,000,000+\n",
      "GPS Status & Toolbox : 10,000,000+\n",
      "Airport + Flight Tracker Radar : 1,000,000+\n",
      "Scout GPS Navigation & Meet Up : 5,000,000+\n",
      "Street Panorama View : 1,000,000+\n",
      "Geo Tracker - GPS tracker : 1,000,000+\n",
      "DreamTrips : 500,000+\n",
      "Navmii GPS USA (Navfree) : 500,000+\n",
      "Sygic Truck GPS Navigation : 1,000,000+\n",
      "Google Street View : 1,000,000,000+\n",
      "Air Transat CinePlus B : 50,000+\n",
      "U-Haul : 100,000+\n",
      "Octo U: Your driving companion : 50,000+\n",
      "Flexiroam X : 100,000+\n",
      "Connect.ae - Local Search UAE : 10,000+\n",
      "Toppen af Danmark : 5,000+\n",
      "Alabama Road Trips : 10,000+\n",
      "Official AL Fishing & Hunting : 50,000+\n",
      "Where Am I At? : 10,000+\n",
      "Where Am I? GPS Loc : 10,000+\n",
      "Live Camera Viewer ★ World Webcam & IP Cam Streams : 10,000,000+\n",
      "Portal AR - Step Into Scotland : 5,000+\n",
      "Casino AZ/Talking Stick Resort : 10,000+\n",
      "Explore Sedona & Northern AZ : 10,000+\n",
      "Arizona Trail : 5,000+\n",
      "Phoenix and Arizona Cameras : 10,000+\n",
      "Experience BA : 100+\n",
      "BA Status : 100+\n",
      "Avios for Android : 100,000+\n",
      "Explore British Columbia - BC Travel Guide : 500+\n",
      "BC Highways - Road Conditions : 10,000+\n",
      "Victoria, BC | Tour City : 1,000+\n",
      "British Columbia Tourist Places (Guide) : 100+\n",
      "BG Metro - Red voznje : 1,000+\n",
      "BG Guide : 100+\n",
      "trip.bg : 1,000+\n",
      "Belo Horizonte Map offline : 1,000+\n",
      "BH Mission Playbook : 100+\n",
      "BH Rocking : 100+\n",
      "Digital Tourist BH Itinerary : 500+\n",
      "BL info : 5,000+\n",
      "BPme - Mobile Fuel Payment & BP Driver Rewards app : 10,000+\n",
      "Wherever BQ : 50+\n",
      "BU Dental GoGoldman : 100+\n",
      "BU Questrom Launch : 100+\n",
      "BU School of Public Health : 10+\n",
      "BV Aventure : 100+\n",
      "BV Rando : 100+\n",
      "Best Western To Go : 100,000+\n",
      "BW Map mobile : 10,000+\n",
      "Best Western e-Concierge Hotel : 10,000+\n",
      "24/7 BZ Reis : 100,000+\n",
      "BZ Vesper-App : 1,000+\n",
      "Restaurantführer Südbaden : 1,000+\n",
      "BZ Straußenführer : 10,000+\n",
      "California Cameras - Traffic : 10,000+\n",
      "Kiosque CD : 5+\n",
      "US 115th CD : 5+\n",
      "CE AH VLJ : 1,000+\n",
      "search.ch : 500,000+\n",
      "CJ's Coffee Cafe : 500+\n",
      "Camping and Co - Camping in Europe : 1,000+\n",
      "CQ Hotels : 10,000+\n",
      "SHUTTLLS CQ - Connect Ride Go : 5+\n",
      "Cathay Pacific : 1,000,000+\n",
      "Map of Cyprus offline : 10,000+\n",
      "DB BAHN : 500+\n",
      "DB FahrtProfi : 1,000+\n",
      "DC Metro Transit - Free : 500,000+\n",
      "DC Trails-Hop On Hop Off Tours : 5,000+\n",
      "Can I pack that? - DG App : 10,000+\n",
      "DG Cars : 10,000+\n",
      "DK Eyewitness Audio Walks : 1,000+\n",
      "DM Transfers Dalaman Transfers : 10,000+\n",
      "US DV Lottery 2020 Apply : 10,000+\n",
      "US DV Lottery 2019 : 1,000+\n",
      "DW Maps : 10,000+\n",
      "junainfo.dy.fi : 100+\n",
      "Siyaha Dz : 10,000+\n",
      "IRIS : Customer Service - DZ Algeria : 1,000+\n",
      "DZ Fly Algérie Horaire Vols : 10,000+\n",
      "EA Plus : 1,000+\n",
      "EB Events : 10,000+\n",
      "Audiowalk EB : 10+\n",
      "EF Go Ahead Tour Companion : 1,000+\n",
      "EF Summits : 100+\n",
      "EG SIM CARD (EGSIMCARD) : 10,000+\n",
      "The Emirates App : 1,000,000+\n",
      "Ek-yatri: Travel where you Belong : 1+\n",
      "EL AL Flights : 100,000+\n",
      "DreamStream By EL AL : 100,000+\n",
      "El Dorado App : 10,000+\n",
      "EO Hotels : 100+\n",
      "Fill 'er Up : 5,000+\n",
      "MAPS.ME – Offline Map and Travel Navigation : 50,000,000+\n",
      "Google Earth : 100,000,000+\n",
      "Offline Maps & Navigation : 5,000,000+\n",
      "myLPG.eu : 50,000+\n",
      "Passenger rights : 50,000+\n",
      "taxi.eu : 100,000+\n",
      "To-U - free EV public charging : 1,000+\n",
      "Bird - Enjoy The Ride : 500,000+\n",
      "eCooltra: scooter sharing. Share electric scooters : 100,000+\n",
      "XE Currency : 10,000,000+\n",
      "Etihad Airways : 500,000+\n",
      "EZ TAG Express : 10,000+\n",
      "Santa Fe Map and Walks : 1,000+\n",
      "Santa Fe VIP Tours : 100+\n",
      "Toyota Cruisers & Trucks Mag : 500+\n",
      "FL State Parks Guide : 100,000+\n",
      "Florida Travel Guide : 1,000+\n",
      "The Florida Trail Guide : 5,000+\n",
      "Florida Keys : 10,000+\n",
      "Florida Travel Guide - TOURIAS : 10,000+\n",
      "Florida map : 5,000+\n",
      "Florida Beach Wallpapers HD : 100+\n",
      "ORLANDO FLORIDA MAP : 1,000+\n",
      "Florida Offline Road Map : 10,000+\n",
      "Florida Map offline : 1,000+\n"
     ]
    }
   ],
   "source": [
    "print('Android Travel apps')\n",
    "for row in ggl_free:\n",
    "    if row[1] == 'TRAVEL_AND_LOCAL':\n",
    "        print(row[0], ':', row[5])"
   ]
  },
  {
   "cell_type": "markdown",
   "metadata": {},
   "source": [
    "One observation from the list of Android travel apps is that quite a number of them have significant amounts of installs. This demonstrates the popularity of such apps, similar with those in the App Store. As compared to the App Store list though, there are much more apps for this category on Google Play. \n",
    "\n",
    "Just like the App Store list, Google Play also has apps for checking, booking, and managing reservations for hotels, restaurants, and flights (trivago, Hopper, and Hostelworld to name a few). Apps focused on specific locations are also on the list, such as Florida Travel Guide and Santa Fe Map and Walks. \n",
    "\n",
    "After scanning through the list, it looks like the app profile recommendation for the App Store can be applicable here as well. Despite the greater number of travel apps here, there isn't much competition present with World Travel Guide by Triposo being one of the few. The recommendation has a chance of working also since, as observed, Google Play has a good mix of apps for leisure and entertainment and apps for practical purposes."
   ]
  },
  {
   "cell_type": "markdown",
   "metadata": {},
   "source": [
    "# Conclusion  \n",
    "\n",
    "Based on the analysis conducted on apps for both the App Store and Google Play, a recommendation for a Travel app profile was made. It appeared to be a viable option as apps for Travel are quite popular for both iOS and Android users. The specific recommendation also has a chance of standing out as there is not much competition for its particular niche. \n",
    "\n",
    "Mobile Free can build an app that allows travelers to check local tourist destinations for a specific area. They can input a certain location or select from available locations in the app. The app can then recommend popular attractions in the specified location, complete with a description, reviews, pictures, and things to do per destination. Filters, such as budget or price, popularity ratings, proximity from the location, among others, can be used to cater the results towards the specific needs of the traveler. An automatic itinerary generator can then show various itinerary options based on the user input. \n",
    "\n",
    "If user response is positive, additional features can be added. Instead of having to rely on third party apps, Mobile Free's app can also recommend accommodation and travel packages for the user while also accounting for filters. \n",
    "\n",
    "As stated in the Validation Strategy, the app will first be tested in Google Play. Depending on user response and profitability, the app can be improved and eventually added to the App Store. \n"
   ]
  }
 ],
 "metadata": {
  "kernelspec": {
   "display_name": "Python 3",
   "language": "python",
   "name": "python3"
  },
  "language_info": {
   "codemirror_mode": {
    "name": "ipython",
    "version": 3
   },
   "file_extension": ".py",
   "mimetype": "text/x-python",
   "name": "python",
   "nbconvert_exporter": "python",
   "pygments_lexer": "ipython3",
   "version": "3.8.5"
  },
  "toc": {
   "base_numbering": 1,
   "nav_menu": {},
   "number_sections": true,
   "sideBar": true,
   "skip_h1_title": false,
   "title_cell": "Table of Contents",
   "title_sidebar": "Contents",
   "toc_cell": false,
   "toc_position": {},
   "toc_section_display": true,
   "toc_window_display": false
  }
 },
 "nbformat": 4,
 "nbformat_minor": 4
}
