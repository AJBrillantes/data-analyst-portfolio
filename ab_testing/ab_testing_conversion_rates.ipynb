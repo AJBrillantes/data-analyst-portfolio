{
 "cells": [
  {
   "cell_type": "markdown",
   "metadata": {},
   "source": [
    "# Determining an Education Website's Better Landing Page with an A/B Test "
   ]
  },
  {
   "cell_type": "markdown",
   "metadata": {},
   "source": [
    "The UX design team of a Data Science online education company has created a new landing page design showing their annual subscription plan. They are hoping that this new design will result in an increase in users deciding to buy their plan. We have been told that the average annual conversion rate (users choosing to buy the plan) of the old page is around 12%. The management would be happy to see an increase of 2% as a benchmark of success. This means that the new page will need to have a conversion rate of 14%. \n",
    "\n",
    "Before launching the new page, the management would like to conduct an initial test on a sample of the base users. As the resident Data Analysts, we have been assigned this task to see if the new page will perform better or worse than its predecessor. We decide to conduct an A/B test to figure this out. \n",
    "\n",
    "NOTE: This is a just a potential scenario. The dataset we will be using for this project can be downloaded from [Kaggle](https://www.kaggle.com/zhangluyuan/ab-testing). \n",
    "\n",
    "This is a personal project to practice A/B Testing.\n",
    "\n",
    "### Results\n",
    "\n",
    "The results of the test led us to fail to reject the Null Hypothesis. The new landing web page **did not perform much differently** than the old landing web page."
   ]
  },
  {
   "cell_type": "markdown",
   "metadata": {},
   "source": [
    "# Stating the hypothesis "
   ]
  },
  {
   "cell_type": "markdown",
   "metadata": {},
   "source": [
    "At the onset of the project, we need to state our hypothesis as this will be the basis for interpreting our test results. Since we do not know how the new landing page will perform, we will perform a **two-tailed test**. \n",
    "\n",
    "&emsp; H$_{o}$: p = p$_{o}$ (Null Hypothesis) <br>\n",
    "&emsp; H$_{a}$: p ≠ p$_{o}$ (Alternative Hypothesis)\n",
    "\n",
    "p is the conversion rate of the old page while p$_{o}$ is the conversion rate of the new page. "
   ]
  },
  {
   "cell_type": "markdown",
   "metadata": {},
   "source": [
    "# Planning our Analysis"
   ]
  },
  {
   "cell_type": "markdown",
   "metadata": {},
   "source": [
    "Now that we have our hypotheses, we have to figure out how to test them. To do that, we will have to determine some important parameters. "
   ]
  },
  {
   "cell_type": "markdown",
   "metadata": {},
   "source": [
    "### Setting Up the Variables \n",
    "\n",
    "The test to be carried out on the base users will require an **Independent** variable and a **Dependent** variable. \n",
    "\n",
    "The Independent variable will be the base users divided into a **Control Group** and a **Treatment Group**. The Control Group will be shown the old landing page while the Treatment Group will be shown the new landing page. We need two groups to ensure that any potential change in conversion rate will be solely due to the new design and not to any other external factors. \n",
    "\n",
    "The Dependent variable, the variable that we are trying to measure, will be the conversion rate. We can measure this by representing each user's decision during their session with:\n",
    "\n",
    "&emsp; `1` = The user subscribed to the annual plan <br>\n",
    "&emsp; `0` = The user did not subscribe to the annual plan"
   ]
  },
  {
   "cell_type": "markdown",
   "metadata": {},
   "source": [
    "### Significance Level \n",
    "\n",
    "For this project, we will set the [Significance Level](https://www.sciencedirect.com/topics/mathematics/significance-level-alpha) (α) at the standard 0.05 or 5%. This places the Confidence Level (1- α) at 0.95 or 95%. This will help us determine whether or not to reject the Null Hypothesis. If the probability (p-value) of observing an event as extreme is **less than** α, then we have to reject the Null Hypothesis. This means that there is a less than 5% probability that this event (conversion rate in our case) occurred by chance. \n",
    "\n",
    "Essentially, we want to be 95% confident that the new page's conversion rate is **statistically different** from the old page's conversion rate before we reject the Null Hypothesis and accept the Alternative Hypothesis. Hence, the name Confidence Level. "
   ]
  },
  {
   "cell_type": "markdown",
   "metadata": {},
   "source": [
    "### Power of the Test\n",
    "\n",
    "Another parameter closely related to the Significance Level (α) is the [Power of the Test](https://www.statisticsteacher.org/2017/09/15/what-is-power/) (1 - β). This parameter gives us the probability of correctly rejecting the Null Hypothesis. This means that a high Power value gives us a higher chance of rejecting the Null Hypothesis when it is actually False. Standard values for this are 0.8 or 0.9. We will set ours at 0.9 "
   ]
  },
  {
   "cell_type": "markdown",
   "metadata": {},
   "source": [
    "### Effect Size\n",
    "\n",
    "The [Effect Size](https://www.leeds.ac.uk/educol/documents/00002182.htm#:~:text=Effect%20size%20is%20a%20simple,confounding%20this%20with%20sample%20size.) is \"simply a way of quantifying the size of the difference between two groups\". In this project, the difference being measured is that of the two conversion rates (14% and 12%). This value is NOT 2% and has to be computed. We will do this below. "
   ]
  },
  {
   "cell_type": "markdown",
   "metadata": {},
   "source": [
    "### Calculating the Sample Size\n",
    "\n",
    "In real life, it would be impractical to conduct the test on the entire population of our base users since it would be resource-intensive. Our analysis has to be done on a sample instead. To [calculate the sample size](https://www.theanalysisfactor.com/5-steps-for-calculating-sample-size/), we will use the three parameters mentioned above. To sum it up, these are the values:\n",
    "\n",
    "&emsp; Significance Level (α): 0.05 <br>\n",
    "&emsp; Power of the Test (1 - β): 0.9 <br>\n",
    "&emsp; Effect Size: To be computed\n",
    "\n",
    "We can use the `statsmodels` package to help us compute for the Effect Size and then the Sample Size. "
   ]
  },
  {
   "cell_type": "code",
   "execution_count": 1,
   "metadata": {},
   "outputs": [
    {
     "data": {
      "text/plain": [
       "-0.05951079608252374"
      ]
     },
     "execution_count": 1,
     "metadata": {},
     "output_type": "execute_result"
    }
   ],
   "source": [
    "import statsmodels.stats.api as sms\n",
    "\n",
    "\n",
    "effect_size = sms.proportion_effectsize(0.12, 0.14) # Conversion rates in decimal form\n",
    "effect_size"
   ]
  },
  {
   "cell_type": "code",
   "execution_count": 2,
   "metadata": {},
   "outputs": [
    {
     "name": "stdout",
     "output_type": "stream",
     "text": [
      "Sample size needed: 5934\n"
     ]
    }
   ],
   "source": [
    "sample_size = sms.zt_ind_solve_power(\n",
    "    effect_size, \n",
    "    nobs1 = None, # This is set to `None` as this is what we are computing for (Number of Observations)\n",
    "    power=0.9, \n",
    "    alpha=0.05, \n",
    "    ratio=1\n",
    "    )\n",
    "print(f'Sample size needed: {round(sample_size)}')"
   ]
  },
  {
   "cell_type": "markdown",
   "metadata": {},
   "source": [
    "### Test to Use "
   ]
  },
  {
   "cell_type": "markdown",
   "metadata": {},
   "source": [
    "Above, we see that we need a sample size of almost 6000, which is quite a large number. Also, the two values which we will be comparing, the conversion rates, are also proportions. This is because they represent how many of (a proportion of) each group \"converted\" or bought the plan being offered. Given these, we shall conduct a [**Two Proportion Z-Test**](https://www.statisticshowto.com/z-test/). The results from this test will determine which Hypothesis to accept and which to reject. "
   ]
  },
  {
   "cell_type": "markdown",
   "metadata": {},
   "source": [
    "# Gathering and Cleaning the Data "
   ]
  },
  {
   "cell_type": "markdown",
   "metadata": {},
   "source": [
    "Since this is a fictional scenario, let us simulate conducting the test on a sample, by extracting our data from this [Kaggle data set](https://www.kaggle.com/zhangluyuan/ab-testing). The `csv` file for this data set will represent the entire population of our base users. We can open this using the `pandas` package. "
   ]
  },
  {
   "cell_type": "code",
   "execution_count": 3,
   "metadata": {},
   "outputs": [
    {
     "data": {
      "text/html": [
       "<div>\n",
       "<style scoped>\n",
       "    .dataframe tbody tr th:only-of-type {\n",
       "        vertical-align: middle;\n",
       "    }\n",
       "\n",
       "    .dataframe tbody tr th {\n",
       "        vertical-align: top;\n",
       "    }\n",
       "\n",
       "    .dataframe thead th {\n",
       "        text-align: right;\n",
       "    }\n",
       "</style>\n",
       "<table border=\"1\" class=\"dataframe\">\n",
       "  <thead>\n",
       "    <tr style=\"text-align: right;\">\n",
       "      <th></th>\n",
       "      <th>user_id</th>\n",
       "      <th>timestamp</th>\n",
       "      <th>group</th>\n",
       "      <th>landing_page</th>\n",
       "      <th>converted</th>\n",
       "    </tr>\n",
       "  </thead>\n",
       "  <tbody>\n",
       "    <tr>\n",
       "      <th>0</th>\n",
       "      <td>851104</td>\n",
       "      <td>2017-01-21 22:11:48.556739</td>\n",
       "      <td>control</td>\n",
       "      <td>old_page</td>\n",
       "      <td>0</td>\n",
       "    </tr>\n",
       "    <tr>\n",
       "      <th>1</th>\n",
       "      <td>804228</td>\n",
       "      <td>2017-01-12 08:01:45.159739</td>\n",
       "      <td>control</td>\n",
       "      <td>old_page</td>\n",
       "      <td>0</td>\n",
       "    </tr>\n",
       "    <tr>\n",
       "      <th>2</th>\n",
       "      <td>661590</td>\n",
       "      <td>2017-01-11 16:55:06.154213</td>\n",
       "      <td>treatment</td>\n",
       "      <td>new_page</td>\n",
       "      <td>0</td>\n",
       "    </tr>\n",
       "    <tr>\n",
       "      <th>3</th>\n",
       "      <td>853541</td>\n",
       "      <td>2017-01-08 18:28:03.143765</td>\n",
       "      <td>treatment</td>\n",
       "      <td>new_page</td>\n",
       "      <td>0</td>\n",
       "    </tr>\n",
       "    <tr>\n",
       "      <th>4</th>\n",
       "      <td>864975</td>\n",
       "      <td>2017-01-21 01:52:26.210827</td>\n",
       "      <td>control</td>\n",
       "      <td>old_page</td>\n",
       "      <td>1</td>\n",
       "    </tr>\n",
       "    <tr>\n",
       "      <th>5</th>\n",
       "      <td>936923</td>\n",
       "      <td>2017-01-10 15:20:49.083499</td>\n",
       "      <td>control</td>\n",
       "      <td>old_page</td>\n",
       "      <td>0</td>\n",
       "    </tr>\n",
       "    <tr>\n",
       "      <th>6</th>\n",
       "      <td>679687</td>\n",
       "      <td>2017-01-19 03:26:46.940749</td>\n",
       "      <td>treatment</td>\n",
       "      <td>new_page</td>\n",
       "      <td>1</td>\n",
       "    </tr>\n",
       "    <tr>\n",
       "      <th>7</th>\n",
       "      <td>719014</td>\n",
       "      <td>2017-01-17 01:48:29.539573</td>\n",
       "      <td>control</td>\n",
       "      <td>old_page</td>\n",
       "      <td>0</td>\n",
       "    </tr>\n",
       "    <tr>\n",
       "      <th>8</th>\n",
       "      <td>817355</td>\n",
       "      <td>2017-01-04 17:58:08.979471</td>\n",
       "      <td>treatment</td>\n",
       "      <td>new_page</td>\n",
       "      <td>1</td>\n",
       "    </tr>\n",
       "    <tr>\n",
       "      <th>9</th>\n",
       "      <td>839785</td>\n",
       "      <td>2017-01-15 18:11:06.610965</td>\n",
       "      <td>treatment</td>\n",
       "      <td>new_page</td>\n",
       "      <td>1</td>\n",
       "    </tr>\n",
       "  </tbody>\n",
       "</table>\n",
       "</div>"
      ],
      "text/plain": [
       "   user_id                   timestamp      group landing_page  converted\n",
       "0   851104  2017-01-21 22:11:48.556739    control     old_page          0\n",
       "1   804228  2017-01-12 08:01:45.159739    control     old_page          0\n",
       "2   661590  2017-01-11 16:55:06.154213  treatment     new_page          0\n",
       "3   853541  2017-01-08 18:28:03.143765  treatment     new_page          0\n",
       "4   864975  2017-01-21 01:52:26.210827    control     old_page          1\n",
       "5   936923  2017-01-10 15:20:49.083499    control     old_page          0\n",
       "6   679687  2017-01-19 03:26:46.940749  treatment     new_page          1\n",
       "7   719014  2017-01-17 01:48:29.539573    control     old_page          0\n",
       "8   817355  2017-01-04 17:58:08.979471  treatment     new_page          1\n",
       "9   839785  2017-01-15 18:11:06.610965  treatment     new_page          1"
      ]
     },
     "metadata": {},
     "output_type": "display_data"
    },
    {
     "name": "stdout",
     "output_type": "stream",
     "text": [
      "Number of Rows: 294478\n"
     ]
    }
   ],
   "source": [
    "import pandas as pd\n",
    "\n",
    "ab_data = pd.read_csv('ab_data.csv')\n",
    "display(ab_data.head(10))\n",
    "print(f'Number of Rows: {ab_data.shape[0]}')"
   ]
  },
  {
   "cell_type": "markdown",
   "metadata": {},
   "source": [
    "We have five columns in our data set:\n",
    "\n",
    "1. `user_id`: Unique identifier for each user during their session\n",
    "2. `timestamp`: The date and time during which each user conducted their session\n",
    "3. `group`: Test group that each user belonged to\n",
    "4. `landing_page`: Landing page version each user was exposed to\n",
    "4. `converted`: Whether a user subscribed to the annual plan or not\n",
    "\n",
    "Let's begin cleaning the data by identifying any anomalies present. First, we can look at each column's data type and check if there are any missing or null values. "
   ]
  },
  {
   "cell_type": "code",
   "execution_count": 4,
   "metadata": {},
   "outputs": [
    {
     "name": "stdout",
     "output_type": "stream",
     "text": [
      "<class 'pandas.core.frame.DataFrame'>\n",
      "RangeIndex: 294478 entries, 0 to 294477\n",
      "Data columns (total 5 columns):\n",
      " #   Column        Non-Null Count   Dtype \n",
      "---  ------        --------------   ----- \n",
      " 0   user_id       294478 non-null  int64 \n",
      " 1   timestamp     294478 non-null  object\n",
      " 2   group         294478 non-null  object\n",
      " 3   landing_page  294478 non-null  object\n",
      " 4   converted     294478 non-null  int64 \n",
      "dtypes: int64(2), object(3)\n",
      "memory usage: 11.2+ MB\n"
     ]
    }
   ],
   "source": [
    "ab_data.info()"
   ]
  },
  {
   "cell_type": "markdown",
   "metadata": {},
   "source": [
    "All columns appear to have complete entries which lessens the work we have to do. The `timestamp` column is of the `object` data type. Since we will only be needing the last three columns, `group`, `landing_page`, and `converted`, for our analysis, there will be no need to convert the `timestamp` column to the `datetime` data type. "
   ]
  },
  {
   "cell_type": "markdown",
   "metadata": {},
   "source": [
    "As we mentioned, the Control Group will be exposed to the old page while the Treatment Group will be exposed to the new page. Let's construct a pivot table to see whether there have been some mix-ups in the data. "
   ]
  },
  {
   "cell_type": "code",
   "execution_count": 5,
   "metadata": {},
   "outputs": [
    {
     "data": {
      "text/html": [
       "<div>\n",
       "<style scoped>\n",
       "    .dataframe tbody tr th:only-of-type {\n",
       "        vertical-align: middle;\n",
       "    }\n",
       "\n",
       "    .dataframe tbody tr th {\n",
       "        vertical-align: top;\n",
       "    }\n",
       "\n",
       "    .dataframe thead th {\n",
       "        text-align: right;\n",
       "    }\n",
       "</style>\n",
       "<table border=\"1\" class=\"dataframe\">\n",
       "  <thead>\n",
       "    <tr style=\"text-align: right;\">\n",
       "      <th>landing_page</th>\n",
       "      <th>new_page</th>\n",
       "      <th>old_page</th>\n",
       "    </tr>\n",
       "    <tr>\n",
       "      <th>group</th>\n",
       "      <th></th>\n",
       "      <th></th>\n",
       "    </tr>\n",
       "  </thead>\n",
       "  <tbody>\n",
       "    <tr>\n",
       "      <th>control</th>\n",
       "      <td>1928</td>\n",
       "      <td>145274</td>\n",
       "    </tr>\n",
       "    <tr>\n",
       "      <th>treatment</th>\n",
       "      <td>145311</td>\n",
       "      <td>1965</td>\n",
       "    </tr>\n",
       "  </tbody>\n",
       "</table>\n",
       "</div>"
      ],
      "text/plain": [
       "landing_page  new_page  old_page\n",
       "group                           \n",
       "control           1928    145274\n",
       "treatment       145311      1965"
      ]
     },
     "execution_count": 5,
     "metadata": {},
     "output_type": "execute_result"
    }
   ],
   "source": [
    "import numpy as np\n",
    "\n",
    "pd.pivot_table(ab_data, values = 'converted', index = 'group', columns = 'landing_page', aggfunc = np.size)"
   ]
  },
  {
   "cell_type": "markdown",
   "metadata": {},
   "source": [
    "We can observe that a small part of each group of our population was exposed to the wrong web page. We need to drop the rows containing these mix-ups before sampling lest we run into erroneous test results. \n",
    "\n",
    "Before that, let's check if there are users that appear more than once. We can use the `user_id` column to check for this. We would want to only have one session per user recorded in the data set to ensure that each data point (each row) is unique. "
   ]
  },
  {
   "cell_type": "code",
   "execution_count": 6,
   "metadata": {},
   "outputs": [
    {
     "data": {
      "text/plain": [
       "637561    2\n",
       "821876    2\n",
       "643869    2\n",
       "938802    2\n",
       "916765    2\n",
       "         ..\n",
       "710897    1\n",
       "708848    1\n",
       "665839    1\n",
       "663790    1\n",
       "630836    1\n",
       "Name: user_id, Length: 290584, dtype: int64"
      ]
     },
     "execution_count": 6,
     "metadata": {},
     "output_type": "execute_result"
    }
   ],
   "source": [
    "user_counts = ab_data['user_id'].value_counts(ascending = False)\n",
    "user_counts"
   ]
  },
  {
   "cell_type": "code",
   "execution_count": 7,
   "metadata": {},
   "outputs": [
    {
     "data": {
      "text/plain": [
       "3894"
      ]
     },
     "execution_count": 7,
     "metadata": {},
     "output_type": "execute_result"
    }
   ],
   "source": [
    "duplicate_users = (user_counts > 1)\n",
    "duplicate_users.sum()"
   ]
  },
  {
   "cell_type": "markdown",
   "metadata": {},
   "source": [
    "A total of 3894 users appear twice in the data set. We would also need to drop these duplicate user rows. \n",
    "\n",
    "The two scenarios above present us with a dilemma since we need to decide which of the two to execute first. Either we drop the rows with mix-ups first then drop those rows with duplicate users, or vice-versa. \n",
    "\n",
    "It is possible that a user might have appeared twice because they were exposed to both versions of the web page while being in the same group. This could also explain the mix-ups we observed. Let's try to confirm this below:"
   ]
  },
  {
   "cell_type": "code",
   "execution_count": 8,
   "metadata": {},
   "outputs": [
    {
     "data": {
      "text/html": [
       "<div>\n",
       "<style scoped>\n",
       "    .dataframe tbody tr th:only-of-type {\n",
       "        vertical-align: middle;\n",
       "    }\n",
       "\n",
       "    .dataframe tbody tr th {\n",
       "        vertical-align: top;\n",
       "    }\n",
       "\n",
       "    .dataframe thead th {\n",
       "        text-align: right;\n",
       "    }\n",
       "</style>\n",
       "<table border=\"1\" class=\"dataframe\">\n",
       "  <thead>\n",
       "    <tr style=\"text-align: right;\">\n",
       "      <th></th>\n",
       "      <th>user_id</th>\n",
       "      <th>timestamp</th>\n",
       "      <th>group</th>\n",
       "      <th>landing_page</th>\n",
       "      <th>converted</th>\n",
       "    </tr>\n",
       "  </thead>\n",
       "  <tbody>\n",
       "    <tr>\n",
       "      <th>230259</th>\n",
       "      <td>630052</td>\n",
       "      <td>2017-01-17 01:16:05.208766</td>\n",
       "      <td>treatment</td>\n",
       "      <td>new_page</td>\n",
       "      <td>0</td>\n",
       "    </tr>\n",
       "    <tr>\n",
       "      <th>213114</th>\n",
       "      <td>630052</td>\n",
       "      <td>2017-01-07 12:25:54.089486</td>\n",
       "      <td>treatment</td>\n",
       "      <td>old_page</td>\n",
       "      <td>1</td>\n",
       "    </tr>\n",
       "    <tr>\n",
       "      <th>22513</th>\n",
       "      <td>630126</td>\n",
       "      <td>2017-01-14 13:35:54.778695</td>\n",
       "      <td>treatment</td>\n",
       "      <td>old_page</td>\n",
       "      <td>0</td>\n",
       "    </tr>\n",
       "    <tr>\n",
       "      <th>251762</th>\n",
       "      <td>630126</td>\n",
       "      <td>2017-01-19 17:16:00.280440</td>\n",
       "      <td>treatment</td>\n",
       "      <td>new_page</td>\n",
       "      <td>0</td>\n",
       "    </tr>\n",
       "    <tr>\n",
       "      <th>183371</th>\n",
       "      <td>630137</td>\n",
       "      <td>2017-01-20 02:08:49.893878</td>\n",
       "      <td>control</td>\n",
       "      <td>old_page</td>\n",
       "      <td>0</td>\n",
       "    </tr>\n",
       "  </tbody>\n",
       "</table>\n",
       "</div>"
      ],
      "text/plain": [
       "        user_id                   timestamp      group landing_page  converted\n",
       "230259   630052  2017-01-17 01:16:05.208766  treatment     new_page          0\n",
       "213114   630052  2017-01-07 12:25:54.089486  treatment     old_page          1\n",
       "22513    630126  2017-01-14 13:35:54.778695  treatment     old_page          0\n",
       "251762   630126  2017-01-19 17:16:00.280440  treatment     new_page          0\n",
       "183371   630137  2017-01-20 02:08:49.893878    control     old_page          0"
      ]
     },
     "execution_count": 8,
     "metadata": {},
     "output_type": "execute_result"
    }
   ],
   "source": [
    "du = duplicate_users[duplicate_users == True].index\n",
    "\n",
    "du_df = ab_data[ab_data['user_id'].isin(du)]\n",
    "du_df.sort_values('user_id').head()"
   ]
  },
  {
   "cell_type": "markdown",
   "metadata": {},
   "source": [
    "Our suspicion confirmed, let's consider the situation where we drop the mix-up rows first. If we choose to drop rows with mix-ups first (only those rows where users were exposed to the wrong page), we would retain the rows of those same users where they were exposed to the correct page. This would be defeating the purpose of our test as we want each user to be exposed to only the version of the web page proper to their group. We need to drop ALL the rows with duplicate users. \n",
    "\n",
    "Since dropping mix-up rows first risks tampering with our sampling, we shall proceed with dropping duplicate user rows first. We will use the indexes of these rows as reference for dropping."
   ]
  },
  {
   "cell_type": "code",
   "execution_count": 9,
   "metadata": {},
   "outputs": [
    {
     "data": {
      "text/html": [
       "<div>\n",
       "<style scoped>\n",
       "    .dataframe tbody tr th:only-of-type {\n",
       "        vertical-align: middle;\n",
       "    }\n",
       "\n",
       "    .dataframe tbody tr th {\n",
       "        vertical-align: top;\n",
       "    }\n",
       "\n",
       "    .dataframe thead th {\n",
       "        text-align: right;\n",
       "    }\n",
       "</style>\n",
       "<table border=\"1\" class=\"dataframe\">\n",
       "  <thead>\n",
       "    <tr style=\"text-align: right;\">\n",
       "      <th></th>\n",
       "      <th>index</th>\n",
       "      <th>user_id</th>\n",
       "      <th>timestamp</th>\n",
       "      <th>group</th>\n",
       "      <th>landing_page</th>\n",
       "      <th>converted</th>\n",
       "    </tr>\n",
       "  </thead>\n",
       "  <tbody>\n",
       "    <tr>\n",
       "      <th>0</th>\n",
       "      <td>0</td>\n",
       "      <td>851104</td>\n",
       "      <td>2017-01-21 22:11:48.556739</td>\n",
       "      <td>control</td>\n",
       "      <td>old_page</td>\n",
       "      <td>0</td>\n",
       "    </tr>\n",
       "    <tr>\n",
       "      <th>1</th>\n",
       "      <td>1</td>\n",
       "      <td>804228</td>\n",
       "      <td>2017-01-12 08:01:45.159739</td>\n",
       "      <td>control</td>\n",
       "      <td>old_page</td>\n",
       "      <td>0</td>\n",
       "    </tr>\n",
       "    <tr>\n",
       "      <th>2</th>\n",
       "      <td>2</td>\n",
       "      <td>661590</td>\n",
       "      <td>2017-01-11 16:55:06.154213</td>\n",
       "      <td>treatment</td>\n",
       "      <td>new_page</td>\n",
       "      <td>0</td>\n",
       "    </tr>\n",
       "    <tr>\n",
       "      <th>3</th>\n",
       "      <td>3</td>\n",
       "      <td>853541</td>\n",
       "      <td>2017-01-08 18:28:03.143765</td>\n",
       "      <td>treatment</td>\n",
       "      <td>new_page</td>\n",
       "      <td>0</td>\n",
       "    </tr>\n",
       "    <tr>\n",
       "      <th>4</th>\n",
       "      <td>4</td>\n",
       "      <td>864975</td>\n",
       "      <td>2017-01-21 01:52:26.210827</td>\n",
       "      <td>control</td>\n",
       "      <td>old_page</td>\n",
       "      <td>1</td>\n",
       "    </tr>\n",
       "    <tr>\n",
       "      <th>...</th>\n",
       "      <td>...</td>\n",
       "      <td>...</td>\n",
       "      <td>...</td>\n",
       "      <td>...</td>\n",
       "      <td>...</td>\n",
       "      <td>...</td>\n",
       "    </tr>\n",
       "    <tr>\n",
       "      <th>286685</th>\n",
       "      <td>294473</td>\n",
       "      <td>751197</td>\n",
       "      <td>2017-01-03 22:28:38.630509</td>\n",
       "      <td>control</td>\n",
       "      <td>old_page</td>\n",
       "      <td>0</td>\n",
       "    </tr>\n",
       "    <tr>\n",
       "      <th>286686</th>\n",
       "      <td>294474</td>\n",
       "      <td>945152</td>\n",
       "      <td>2017-01-12 00:51:57.078372</td>\n",
       "      <td>control</td>\n",
       "      <td>old_page</td>\n",
       "      <td>0</td>\n",
       "    </tr>\n",
       "    <tr>\n",
       "      <th>286687</th>\n",
       "      <td>294475</td>\n",
       "      <td>734608</td>\n",
       "      <td>2017-01-22 11:45:03.439544</td>\n",
       "      <td>control</td>\n",
       "      <td>old_page</td>\n",
       "      <td>0</td>\n",
       "    </tr>\n",
       "    <tr>\n",
       "      <th>286688</th>\n",
       "      <td>294476</td>\n",
       "      <td>697314</td>\n",
       "      <td>2017-01-15 01:20:28.957438</td>\n",
       "      <td>control</td>\n",
       "      <td>old_page</td>\n",
       "      <td>0</td>\n",
       "    </tr>\n",
       "    <tr>\n",
       "      <th>286689</th>\n",
       "      <td>294477</td>\n",
       "      <td>715931</td>\n",
       "      <td>2017-01-16 12:40:24.467417</td>\n",
       "      <td>treatment</td>\n",
       "      <td>new_page</td>\n",
       "      <td>0</td>\n",
       "    </tr>\n",
       "  </tbody>\n",
       "</table>\n",
       "<p>286690 rows × 6 columns</p>\n",
       "</div>"
      ],
      "text/plain": [
       "         index  user_id                   timestamp      group landing_page  \\\n",
       "0            0   851104  2017-01-21 22:11:48.556739    control     old_page   \n",
       "1            1   804228  2017-01-12 08:01:45.159739    control     old_page   \n",
       "2            2   661590  2017-01-11 16:55:06.154213  treatment     new_page   \n",
       "3            3   853541  2017-01-08 18:28:03.143765  treatment     new_page   \n",
       "4            4   864975  2017-01-21 01:52:26.210827    control     old_page   \n",
       "...        ...      ...                         ...        ...          ...   \n",
       "286685  294473   751197  2017-01-03 22:28:38.630509    control     old_page   \n",
       "286686  294474   945152  2017-01-12 00:51:57.078372    control     old_page   \n",
       "286687  294475   734608  2017-01-22 11:45:03.439544    control     old_page   \n",
       "286688  294476   697314  2017-01-15 01:20:28.957438    control     old_page   \n",
       "286689  294477   715931  2017-01-16 12:40:24.467417  treatment     new_page   \n",
       "\n",
       "        converted  \n",
       "0               0  \n",
       "1               0  \n",
       "2               0  \n",
       "3               0  \n",
       "4               1  \n",
       "...           ...  \n",
       "286685          0  \n",
       "286686          0  \n",
       "286687          0  \n",
       "286688          0  \n",
       "286689          0  \n",
       "\n",
       "[286690 rows x 6 columns]"
      ]
     },
     "metadata": {},
     "output_type": "display_data"
    }
   ],
   "source": [
    "ab_data.drop(labels = du_df.index, axis = 0, inplace = True)\n",
    "ab_data.reset_index(inplace = True)\n",
    "display(ab_data)"
   ]
  },
  {
   "cell_type": "markdown",
   "metadata": {},
   "source": [
    "The number of rows for `ab_data` has been decreased from 294478 to 286690. Let's now check if there are still remaining rows with mix-ups. "
   ]
  },
  {
   "cell_type": "code",
   "execution_count": 10,
   "metadata": {},
   "outputs": [
    {
     "data": {
      "text/html": [
       "<div>\n",
       "<style scoped>\n",
       "    .dataframe tbody tr th:only-of-type {\n",
       "        vertical-align: middle;\n",
       "    }\n",
       "\n",
       "    .dataframe tbody tr th {\n",
       "        vertical-align: top;\n",
       "    }\n",
       "\n",
       "    .dataframe thead th {\n",
       "        text-align: right;\n",
       "    }\n",
       "</style>\n",
       "<table border=\"1\" class=\"dataframe\">\n",
       "  <thead>\n",
       "    <tr style=\"text-align: right;\">\n",
       "      <th>landing_page</th>\n",
       "      <th>new_page</th>\n",
       "      <th>old_page</th>\n",
       "    </tr>\n",
       "    <tr>\n",
       "      <th>group</th>\n",
       "      <th></th>\n",
       "      <th></th>\n",
       "    </tr>\n",
       "  </thead>\n",
       "  <tbody>\n",
       "    <tr>\n",
       "      <th>control</th>\n",
       "      <td>NaN</td>\n",
       "      <td>143293.0</td>\n",
       "    </tr>\n",
       "    <tr>\n",
       "      <th>treatment</th>\n",
       "      <td>143397.0</td>\n",
       "      <td>NaN</td>\n",
       "    </tr>\n",
       "  </tbody>\n",
       "</table>\n",
       "</div>"
      ],
      "text/plain": [
       "landing_page  new_page  old_page\n",
       "group                           \n",
       "control            NaN  143293.0\n",
       "treatment     143397.0       NaN"
      ]
     },
     "execution_count": 10,
     "metadata": {},
     "output_type": "execute_result"
    }
   ],
   "source": [
    "pd.pivot_table(ab_data, values = 'converted', index = 'group', columns = 'landing_page', aggfunc = np.size)"
   ]
  },
  {
   "cell_type": "markdown",
   "metadata": {},
   "source": [
    "We can confirm that the mix-up rows have also been dropped along with those with duplicate users. "
   ]
  },
  {
   "cell_type": "markdown",
   "metadata": {},
   "source": [
    "### Sampling the Data "
   ]
  },
  {
   "cell_type": "markdown",
   "metadata": {},
   "source": [
    "Now that we've properly cleaned our data, we can now sample the data set for data on which to conduct our analysis."
   ]
  },
  {
   "cell_type": "code",
   "execution_count": 11,
   "metadata": {},
   "outputs": [
    {
     "data": {
      "text/html": [
       "<div>\n",
       "<style scoped>\n",
       "    .dataframe tbody tr th:only-of-type {\n",
       "        vertical-align: middle;\n",
       "    }\n",
       "\n",
       "    .dataframe tbody tr th {\n",
       "        vertical-align: top;\n",
       "    }\n",
       "\n",
       "    .dataframe thead th {\n",
       "        text-align: right;\n",
       "    }\n",
       "</style>\n",
       "<table border=\"1\" class=\"dataframe\">\n",
       "  <thead>\n",
       "    <tr style=\"text-align: right;\">\n",
       "      <th></th>\n",
       "      <th>index</th>\n",
       "      <th>user_id</th>\n",
       "      <th>timestamp</th>\n",
       "      <th>group</th>\n",
       "      <th>landing_page</th>\n",
       "      <th>converted</th>\n",
       "    </tr>\n",
       "  </thead>\n",
       "  <tbody>\n",
       "    <tr>\n",
       "      <th>168136</th>\n",
       "      <td>172701</td>\n",
       "      <td>788447</td>\n",
       "      <td>2017-01-15 10:15:53.966766</td>\n",
       "      <td>control</td>\n",
       "      <td>old_page</td>\n",
       "      <td>0</td>\n",
       "    </tr>\n",
       "    <tr>\n",
       "      <th>253866</th>\n",
       "      <td>260721</td>\n",
       "      <td>644367</td>\n",
       "      <td>2017-01-04 13:27:00.815306</td>\n",
       "      <td>control</td>\n",
       "      <td>old_page</td>\n",
       "      <td>0</td>\n",
       "    </tr>\n",
       "    <tr>\n",
       "      <th>47143</th>\n",
       "      <td>48408</td>\n",
       "      <td>921476</td>\n",
       "      <td>2017-01-13 11:28:38.186516</td>\n",
       "      <td>control</td>\n",
       "      <td>old_page</td>\n",
       "      <td>0</td>\n",
       "    </tr>\n",
       "    <tr>\n",
       "      <th>263598</th>\n",
       "      <td>270742</td>\n",
       "      <td>844813</td>\n",
       "      <td>2017-01-09 02:20:49.471715</td>\n",
       "      <td>control</td>\n",
       "      <td>old_page</td>\n",
       "      <td>0</td>\n",
       "    </tr>\n",
       "    <tr>\n",
       "      <th>224896</th>\n",
       "      <td>230973</td>\n",
       "      <td>675390</td>\n",
       "      <td>2017-01-09 23:51:06.765370</td>\n",
       "      <td>control</td>\n",
       "      <td>old_page</td>\n",
       "      <td>0</td>\n",
       "    </tr>\n",
       "    <tr>\n",
       "      <th>34680</th>\n",
       "      <td>35614</td>\n",
       "      <td>668372</td>\n",
       "      <td>2017-01-08 19:08:01.505554</td>\n",
       "      <td>control</td>\n",
       "      <td>old_page</td>\n",
       "      <td>0</td>\n",
       "    </tr>\n",
       "    <tr>\n",
       "      <th>210542</th>\n",
       "      <td>216217</td>\n",
       "      <td>690587</td>\n",
       "      <td>2017-01-14 00:29:05.466481</td>\n",
       "      <td>control</td>\n",
       "      <td>old_page</td>\n",
       "      <td>0</td>\n",
       "    </tr>\n",
       "    <tr>\n",
       "      <th>276697</th>\n",
       "      <td>284190</td>\n",
       "      <td>890747</td>\n",
       "      <td>2017-01-20 04:04:10.418348</td>\n",
       "      <td>control</td>\n",
       "      <td>old_page</td>\n",
       "      <td>0</td>\n",
       "    </tr>\n",
       "    <tr>\n",
       "      <th>168219</th>\n",
       "      <td>172787</td>\n",
       "      <td>638406</td>\n",
       "      <td>2017-01-08 15:44:07.768157</td>\n",
       "      <td>control</td>\n",
       "      <td>old_page</td>\n",
       "      <td>0</td>\n",
       "    </tr>\n",
       "    <tr>\n",
       "      <th>200777</th>\n",
       "      <td>206192</td>\n",
       "      <td>818494</td>\n",
       "      <td>2017-01-06 08:01:01.834029</td>\n",
       "      <td>control</td>\n",
       "      <td>old_page</td>\n",
       "      <td>0</td>\n",
       "    </tr>\n",
       "  </tbody>\n",
       "</table>\n",
       "</div>"
      ],
      "text/plain": [
       "         index  user_id                   timestamp    group landing_page  \\\n",
       "168136  172701   788447  2017-01-15 10:15:53.966766  control     old_page   \n",
       "253866  260721   644367  2017-01-04 13:27:00.815306  control     old_page   \n",
       "47143    48408   921476  2017-01-13 11:28:38.186516  control     old_page   \n",
       "263598  270742   844813  2017-01-09 02:20:49.471715  control     old_page   \n",
       "224896  230973   675390  2017-01-09 23:51:06.765370  control     old_page   \n",
       "34680    35614   668372  2017-01-08 19:08:01.505554  control     old_page   \n",
       "210542  216217   690587  2017-01-14 00:29:05.466481  control     old_page   \n",
       "276697  284190   890747  2017-01-20 04:04:10.418348  control     old_page   \n",
       "168219  172787   638406  2017-01-08 15:44:07.768157  control     old_page   \n",
       "200777  206192   818494  2017-01-06 08:01:01.834029  control     old_page   \n",
       "\n",
       "        converted  \n",
       "168136          0  \n",
       "253866          0  \n",
       "47143           0  \n",
       "263598          0  \n",
       "224896          0  \n",
       "34680           0  \n",
       "210542          0  \n",
       "276697          0  \n",
       "168219          0  \n",
       "200777          0  "
      ]
     },
     "execution_count": 11,
     "metadata": {},
     "output_type": "execute_result"
    }
   ],
   "source": [
    "# \"Divide\" the data set into two groups, `control` and `treatment`.\n",
    "control = ab_data[(ab_data['group'] == 'control')]\n",
    "treatment = ab_data[(ab_data['group'] == 'treatment')]\n",
    "\n",
    "# `n` is set to 5934 as we previously calculated. `random_state` is set to `1` so that our results are reproducible\n",
    "control_sample = control.sample(n = 5934, random_state = 1)\n",
    "treatment_sample = treatment.sample(n = 5934, random_state = 1)\n",
    "\n",
    "# Sub-samples are combined in a single dataframe\n",
    "ab_sample = pd.concat([control_sample, treatment_sample])\n",
    "ab_sample.head(10)"
   ]
  },
  {
   "cell_type": "markdown",
   "metadata": {},
   "source": [
    "Below, we construct again a pivot table as a sanity check. "
   ]
  },
  {
   "cell_type": "code",
   "execution_count": 12,
   "metadata": {},
   "outputs": [
    {
     "data": {
      "text/html": [
       "<div>\n",
       "<style scoped>\n",
       "    .dataframe tbody tr th:only-of-type {\n",
       "        vertical-align: middle;\n",
       "    }\n",
       "\n",
       "    .dataframe tbody tr th {\n",
       "        vertical-align: top;\n",
       "    }\n",
       "\n",
       "    .dataframe thead th {\n",
       "        text-align: right;\n",
       "    }\n",
       "</style>\n",
       "<table border=\"1\" class=\"dataframe\">\n",
       "  <thead>\n",
       "    <tr style=\"text-align: right;\">\n",
       "      <th>landing_page</th>\n",
       "      <th>new_page</th>\n",
       "      <th>old_page</th>\n",
       "    </tr>\n",
       "    <tr>\n",
       "      <th>group</th>\n",
       "      <th></th>\n",
       "      <th></th>\n",
       "    </tr>\n",
       "  </thead>\n",
       "  <tbody>\n",
       "    <tr>\n",
       "      <th>control</th>\n",
       "      <td>NaN</td>\n",
       "      <td>5934.0</td>\n",
       "    </tr>\n",
       "    <tr>\n",
       "      <th>treatment</th>\n",
       "      <td>5934.0</td>\n",
       "      <td>NaN</td>\n",
       "    </tr>\n",
       "  </tbody>\n",
       "</table>\n",
       "</div>"
      ],
      "text/plain": [
       "landing_page  new_page  old_page\n",
       "group                           \n",
       "control            NaN    5934.0\n",
       "treatment       5934.0       NaN"
      ]
     },
     "execution_count": 12,
     "metadata": {},
     "output_type": "execute_result"
    }
   ],
   "source": [
    "pd.pivot_table(ab_sample, values = 'converted', index = 'group', columns = 'landing_page', aggfunc = np.size)"
   ]
  },
  {
   "cell_type": "markdown",
   "metadata": {},
   "source": [
    "# Analyzing the Data"
   ]
  },
  {
   "cell_type": "markdown",
   "metadata": {},
   "source": [
    "Let's start our analysis by computing and visualizing the conversion rates of the two groups for the sample data. "
   ]
  },
  {
   "cell_type": "code",
   "execution_count": 13,
   "metadata": {},
   "outputs": [
    {
     "data": {
      "image/png": "[encoded data removed]",
      "text/plain": [
       "<Figure size 504x432 with 1 Axes>"
      ]
     },
     "metadata": {
      "needs_background": "light"
     },
     "output_type": "display_data"
    }
   ],
   "source": [
    "import seaborn as sns\n",
    "import matplotlib.pyplot as plt\n",
    "\n",
    "\n",
    "fig, ax = plt.subplots(figsize = (7,6))\n",
    "sns.barplot(x = 'group', y = 'converted', data = ab_sample)\n",
    "sns.set_style('white')\n",
    "\n",
    "# Styling the graph elements\n",
    "plt.text(x = -0.65, y = 0.14, s = 'Comparing Sample Conversion Rates', fontsize = 25, weight = 'bold')\n",
    "ax.set_xlabel('Group', fontsize = 18)\n",
    "ax.set_ylabel('Conversion Rate, %', fontsize = 18)\n",
    "ax.set_xticklabels(labels = ['Control', 'Treatment'], fontsize = 15)\n",
    "ax.set_yticklabels(labels = [x for x in range(0,14,2)], fontsize = 15)\n",
    "ax.tick_params(axis='both', which='major', labelsize=13.5)\n",
    "plt.show()"
   ]
  },
  {
   "cell_type": "code",
   "execution_count": 14,
   "metadata": {},
   "outputs": [
    {
     "data": {
      "text/plain": [
       "0.12082912032355915"
      ]
     },
     "execution_count": 14,
     "metadata": {},
     "output_type": "execute_result"
    }
   ],
   "source": [
    "control_sample['converted'].mean()"
   ]
  },
  {
   "cell_type": "markdown",
   "metadata": {},
   "source": [
    "From the sample, the old landing page's conversion rate of ~12.1% is almost the same as the 12% annual figure which we were told about.  "
   ]
  },
  {
   "cell_type": "code",
   "execution_count": 15,
   "metadata": {},
   "outputs": [
    {
     "data": {
      "text/plain": [
       "0.11375126390293225"
      ]
     },
     "execution_count": 15,
     "metadata": {},
     "output_type": "execute_result"
    }
   ],
   "source": [
    "treatment_sample['converted'].mean()"
   ]
  },
  {
   "cell_type": "markdown",
   "metadata": {},
   "source": [
    "Unfortunately, we see that the new landing page seemed to perform worse at ~11.38% than the old landing page. We need to figure out, though, if this is statistically significant enough for us to reject the Null Hypothesis and to claim that the new page actually did perform worse. \n",
    "\n",
    "To do this, we have to compute two things:\n",
    "1. Test Statistic (z-statistic)\n",
    "2. P-value\n",
    "\n",
    "Normally, we would have to compute for the standard deviation or the standard error before computing the test statistic. Fortunately, `statsmodels` can take care of that for us behind the scenes so we can skip this intermediary step. We will also compute for the confidence intervals."
   ]
  },
  {
   "cell_type": "code",
   "execution_count": 16,
   "metadata": {},
   "outputs": [
    {
     "name": "stdout",
     "output_type": "stream",
     "text": [
      "Test Statistic (z-statistic): -1.1981762220288936\n",
      "P-value: 0.2308484201886838\n",
      "Confidence Interval, 95% (Control Group): [0.11253640467000654, 0.12912183597711174]\n",
      "Confidence Interval, 95% (Treatment Group): [0.10567277282125923, 0.12182975498460527]\n"
     ]
    }
   ],
   "source": [
    "zstat, p_value = sms.proportions_ztest(\n",
    "    count = [treatment_sample['converted'].sum(), control_sample['converted'].sum()],\n",
    "    nobs = [treatment_sample.shape[0], control_sample.shape[0]],\n",
    "    alternative = 'two-sided' # For two-tailed test\n",
    "    )\n",
    "\n",
    "(lower_bounds), (upper_bounds) = sms.proportion_confint(\n",
    "    count = [treatment_sample['converted'].sum(), control_sample['converted'].sum()],\n",
    "    nobs = [treatment_sample.shape[0], control_sample.shape[0]],\n",
    "    alpha = 0.05\n",
    "    )\n",
    "\n",
    "print(f'Test Statistic (z-statistic): {zstat}') \n",
    "print(f'P-value: {p_value}')  \n",
    "print(f'Confidence Interval, 95% (Control Group): [{lower_bounds[1]}, {upper_bounds[1]}]')\n",
    "print(f'Confidence Interval, 95% (Treatment Group): [{lower_bounds[0]}, {upper_bounds[0]}]')"
   ]
  },
  {
   "cell_type": "markdown",
   "metadata": {},
   "source": [
    "# Interpreting the Results "
   ]
  },
  {
   "cell_type": "markdown",
   "metadata": {},
   "source": [
    "Traditionally, the p-value is found using a z-table after we've calculated the z-value. In our case, `statsmodels` was able to compute for both directly. \n",
    "\n",
    "We see that our p-value is at 0.2308; our observed treatment conversion rate has a 23.08% probability of occuring due to chance. Since this is higher than our significance level (α) of 0.05, we fail to reject the Null Hypothesis, H$_{o}$. This means that the new landing web page **did not perform much differently** than the old landing web page. Hence, the conversion rates are not significantly different from each other. \n",
    "\n",
    "Having performed the test on a sample, the true conversion rate (population conversion rate) would also not be that far from 11.38%. It is most likely to fall within the bounds of 10.57% and 12.18% as shown in the Treatment Group's confidence interval. This shows that the new web page's conversion rate falls short of the 14% target of the management.\n",
    "\n",
    "We can now relay the results of our test to the management so that they can decide whether to have the UX design team create a new design or to come up with a different approach. "
   ]
  }
 ],
 "metadata": {
  "kernelspec": {
   "display_name": "Python 3",
   "language": "python",
   "name": "python3"
  },
  "language_info": {
   "codemirror_mode": {
    "name": "ipython",
    "version": 3
   },
   "file_extension": ".py",
   "mimetype": "text/x-python",
   "name": "python",
   "nbconvert_exporter": "python",
   "pygments_lexer": "ipython3",
   "version": "3.7.7"
  }
 },
 "nbformat": 4,
 "nbformat_minor": 4
}
