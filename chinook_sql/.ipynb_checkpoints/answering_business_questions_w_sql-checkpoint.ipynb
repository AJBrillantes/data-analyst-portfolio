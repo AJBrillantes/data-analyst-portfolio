{
 "cells": [
  {
   "cell_type": "markdown",
   "metadata": {},
   "source": [
    "# Querying a Digital Music Store's Database\n",
    "___"
   ]
  },
  {
   "cell_type": "markdown",
   "metadata": {},
   "source": [
    "Chinook is a fictional digital music store. They have a database containing information on their music, employees, and customers. Taking the role of a hired data analysts, we will assist the Chinook team with answering some questions about their sales and their employees.  \n",
    "\n",
    "### Results\n",
    "Click [here](#summary) to go straight to the [*Summary*](#summary) section."
   ]
  },
  {
   "cell_type": "markdown",
   "metadata": {},
   "source": [
    "# Database Exploration \n",
    "___"
   ]
  },
  {
   "cell_type": "markdown",
   "metadata": {},
   "source": [
    "The database (.db) file and schema diagram (.png) can be downloaded [here](https://www.kaggle.com/samaxtech/chinook-music-store-data?select=chinook.db)\n",
    "\n",
    "To start querying with SQL from Jupyter Notebook, we have to first run the magic commands below. As seen, our SQL flavor is SQLite and the name of our database is `chinook.db`."
   ]
  },
  {
   "cell_type": "code",
   "execution_count": 3,
   "metadata": {},
   "outputs": [],
   "source": [
    "%%capture\n",
    "%load_ext sql\n",
    "%sql sqlite:///chinook.db"
   ]
  },
  {
   "cell_type": "markdown",
   "metadata": {},
   "source": [
    "Let's familiarize ourselves with the tables present in our database. Note that for every succeeding code cell, we need to place the magic command `%%sql` at the beginning in order for our query to be executed. "
   ]
  },
  {
   "cell_type": "code",
   "execution_count": 4,
   "metadata": {},
   "outputs": [
    {
     "name": "stdout",
     "output_type": "stream",
     "text": [
      " * sqlite:///chinook.db\n",
      "Done.\n"
     ]
    },
    {
     "data": {
      "text/html": [
       "<table>\n",
       "    <tr>\n",
       "        <th>name</th>\n",
       "        <th>type</th>\n",
       "    </tr>\n",
       "    <tr>\n",
       "        <td>album</td>\n",
       "        <td>table</td>\n",
       "    </tr>\n",
       "    <tr>\n",
       "        <td>artist</td>\n",
       "        <td>table</td>\n",
       "    </tr>\n",
       "    <tr>\n",
       "        <td>customer</td>\n",
       "        <td>table</td>\n",
       "    </tr>\n",
       "    <tr>\n",
       "        <td>employee</td>\n",
       "        <td>table</td>\n",
       "    </tr>\n",
       "    <tr>\n",
       "        <td>genre</td>\n",
       "        <td>table</td>\n",
       "    </tr>\n",
       "    <tr>\n",
       "        <td>invoice</td>\n",
       "        <td>table</td>\n",
       "    </tr>\n",
       "    <tr>\n",
       "        <td>invoice_line</td>\n",
       "        <td>table</td>\n",
       "    </tr>\n",
       "    <tr>\n",
       "        <td>media_type</td>\n",
       "        <td>table</td>\n",
       "    </tr>\n",
       "    <tr>\n",
       "        <td>playlist</td>\n",
       "        <td>table</td>\n",
       "    </tr>\n",
       "    <tr>\n",
       "        <td>playlist_track</td>\n",
       "        <td>table</td>\n",
       "    </tr>\n",
       "    <tr>\n",
       "        <td>track</td>\n",
       "        <td>table</td>\n",
       "    </tr>\n",
       "</table>"
      ],
      "text/plain": [
       "[('album', 'table'),\n",
       " ('artist', 'table'),\n",
       " ('customer', 'table'),\n",
       " ('employee', 'table'),\n",
       " ('genre', 'table'),\n",
       " ('invoice', 'table'),\n",
       " ('invoice_line', 'table'),\n",
       " ('media_type', 'table'),\n",
       " ('playlist', 'table'),\n",
       " ('playlist_track', 'table'),\n",
       " ('track', 'table')]"
      ]
     },
     "execution_count": 4,
     "metadata": {},
     "output_type": "execute_result"
    }
   ],
   "source": [
    "%%sql\n",
    "SELECT \n",
    "    name,\n",
    "    type\n",
    "FROM sqlite_master\n",
    "WHERE type IN ('table');"
   ]
  },
  {
   "cell_type": "markdown",
   "metadata": {},
   "source": [
    "We have 11 tables in the database. The schema diagram below shows how the tables are related to one another. This will help us in constructing our queries. The cells highlighted in yellow are the primary keys of the tables. Each are linked to a corresponding cell in another table which is either its primary key or foreign key. "
   ]
  },
  {
   "cell_type": "code",
   "execution_count": 5,
   "metadata": {},
   "outputs": [
    {
     "data": {
      "image/png": "[encoded data removed]",
      "text/plain": [
       "<IPython.core.display.Image object>"
      ]
     },
     "execution_count": 5,
     "metadata": {
      "image/png": {
       "height": 699,
       "width": 726
      }
     },
     "output_type": "execute_result"
    }
   ],
   "source": [
    "from IPython.display import Image\n",
    "Image(filename='chinook schema.png', width = (726), height = (699)) "
   ]
  },
  {
   "cell_type": "markdown",
   "metadata": {},
   "source": [
    "NOTE: For the queries in this project, a breakdown of the full query will be done to better understand the logic behind it. At the beginning of each breakdown, a link will be provided if you wish to skip to the full query. \n"
   ]
  },
  {
   "cell_type": "markdown",
   "metadata": {},
   "source": [
    "# Top Genres in the USA\n",
    "___"
   ]
  },
  {
   "cell_type": "markdown",
   "metadata": {},
   "source": [
    "### Scenario"
   ]
  },
  {
   "cell_type": "markdown",
   "metadata": {},
   "source": [
    "The Chinook team has decided to add more music albums in their inventory. These albums will be sold exclusively to customers from the USA. They have been provided with four artists, whose albums they can add, that are listed below. The corresponding genre of each artist's albums are also shown.  "
   ]
  },
  {
   "cell_type": "markdown",
   "metadata": {},
   "source": [
    "|Artist Name | Genre\n",
    "|:------------|:-----\n",
    "|Regal | Hip-Hop\n",
    "|Red Tone | Punk\n",
    "|Meteor and the Girls | Pop\n",
    "|Slim Jim Bites | Blues"
   ]
  },
  {
   "cell_type": "markdown",
   "metadata": {},
   "source": [
    "The team has decided to select only three from among the artists. They want us to determine the top three selling genres in the USA. They will use this as criteria for selecting the three artists whose albums they will add. "
   ]
  },
  {
   "cell_type": "markdown",
   "metadata": {},
   "source": [
    "### Constructing Our Query"
   ]
  },
  {
   "cell_type": "markdown",
   "metadata": {},
   "source": [
    "[CLICK HERE](#Full-query:-Top-Genres-in-USA) to skip to the full query.\n",
    "\n",
    "To begin constructing our query, we need to know which tables from the database we are going to use. Based on the requirements of the team, we will use the following tables:\n",
    "\n",
    "1. genre\n",
    "2. track \n",
    "3. invoice_line\n",
    "4. invoice\n",
    "\n",
    "Let's get an overview of their contents."
   ]
  },
  {
   "cell_type": "code",
   "execution_count": 6,
   "metadata": {},
   "outputs": [
    {
     "name": "stdout",
     "output_type": "stream",
     "text": [
      " * sqlite:///chinook.db\n",
      "Done.\n"
     ]
    },
    {
     "data": {
      "text/html": [
       "<table>\n",
       "    <tr>\n",
       "        <th>genre_id</th>\n",
       "        <th>name</th>\n",
       "    </tr>\n",
       "    <tr>\n",
       "        <td>9</td>\n",
       "        <td>Pop</td>\n",
       "    </tr>\n",
       "    <tr>\n",
       "        <td>23</td>\n",
       "        <td>Alternative</td>\n",
       "    </tr>\n",
       "    <tr>\n",
       "        <td>5</td>\n",
       "        <td>Rock And Roll</td>\n",
       "    </tr>\n",
       "    <tr>\n",
       "        <td>11</td>\n",
       "        <td>Bossa Nova</td>\n",
       "    </tr>\n",
       "    <tr>\n",
       "        <td>12</td>\n",
       "        <td>Easy Listening</td>\n",
       "    </tr>\n",
       "</table>"
      ],
      "text/plain": [
       "[(9, 'Pop'),\n",
       " (23, 'Alternative'),\n",
       " (5, 'Rock And Roll'),\n",
       " (11, 'Bossa Nova'),\n",
       " (12, 'Easy Listening')]"
      ]
     },
     "execution_count": 6,
     "metadata": {},
     "output_type": "execute_result"
    }
   ],
   "source": [
    "%%sql \n",
    "\n",
    "SELECT * FROM genre\n",
    "ORDER BY RANDOM()\n",
    "LIMIT 5;"
   ]
  },
  {
   "cell_type": "code",
   "execution_count": 7,
   "metadata": {},
   "outputs": [
    {
     "name": "stdout",
     "output_type": "stream",
     "text": [
      " * sqlite:///chinook.db\n",
      "Done.\n"
     ]
    },
    {
     "data": {
      "text/html": [
       "<table>\n",
       "    <tr>\n",
       "        <th>track_id</th>\n",
       "        <th>name</th>\n",
       "        <th>album_id</th>\n",
       "        <th>media_type_id</th>\n",
       "        <th>genre_id</th>\n",
       "        <th>composer</th>\n",
       "        <th>milliseconds</th>\n",
       "        <th>bytes</th>\n",
       "        <th>unit_price</th>\n",
       "    </tr>\n",
       "    <tr>\n",
       "        <td>1797</td>\n",
       "        <td>It&#x27;s a Mistake</td>\n",
       "        <td>147</td>\n",
       "        <td>1</td>\n",
       "        <td>1</td>\n",
       "        <td>None</td>\n",
       "        <td>273371</td>\n",
       "        <td>8979965</td>\n",
       "        <td>0.99</td>\n",
       "    </tr>\n",
       "    <tr>\n",
       "        <td>717</td>\n",
       "        <td>Eu Sou Neguinha (Ao Vivo)</td>\n",
       "        <td>56</td>\n",
       "        <td>1</td>\n",
       "        <td>7</td>\n",
       "        <td>None</td>\n",
       "        <td>251768</td>\n",
       "        <td>8376000</td>\n",
       "        <td>0.99</td>\n",
       "    </tr>\n",
       "    <tr>\n",
       "        <td>751</td>\n",
       "        <td>Love Child</td>\n",
       "        <td>58</td>\n",
       "        <td>1</td>\n",
       "        <td>1</td>\n",
       "        <td>Bolin/Coverdale</td>\n",
       "        <td>188160</td>\n",
       "        <td>6173806</td>\n",
       "        <td>0.99</td>\n",
       "    </tr>\n",
       "    <tr>\n",
       "        <td>3466</td>\n",
       "        <td>Rehab (Hot Chip Remix)</td>\n",
       "        <td>321</td>\n",
       "        <td>2</td>\n",
       "        <td>14</td>\n",
       "        <td>None</td>\n",
       "        <td>418293</td>\n",
       "        <td>6670600</td>\n",
       "        <td>0.99</td>\n",
       "    </tr>\n",
       "    <tr>\n",
       "        <td>1679</td>\n",
       "        <td>Dezesseis</td>\n",
       "        <td>139</td>\n",
       "        <td>1</td>\n",
       "        <td>7</td>\n",
       "        <td>Renato Russo</td>\n",
       "        <td>323918</td>\n",
       "        <td>10573515</td>\n",
       "        <td>0.99</td>\n",
       "    </tr>\n",
       "</table>"
      ],
      "text/plain": [
       "[(1797, \"It's a Mistake\", 147, 1, 1, None, 273371, 8979965, 0.99),\n",
       " (717, 'Eu Sou Neguinha (Ao Vivo)', 56, 1, 7, None, 251768, 8376000, 0.99),\n",
       " (751, 'Love Child', 58, 1, 1, 'Bolin/Coverdale', 188160, 6173806, 0.99),\n",
       " (3466, 'Rehab (Hot Chip Remix)', 321, 2, 14, None, 418293, 6670600, 0.99),\n",
       " (1679, 'Dezesseis', 139, 1, 7, 'Renato Russo', 323918, 10573515, 0.99)]"
      ]
     },
     "execution_count": 7,
     "metadata": {},
     "output_type": "execute_result"
    }
   ],
   "source": [
    "%%sql \n",
    "\n",
    "SELECT * FROM track\n",
    "ORDER BY RANDOM()\n",
    "LIMIT 5;"
   ]
  },
  {
   "cell_type": "code",
   "execution_count": 8,
   "metadata": {},
   "outputs": [
    {
     "name": "stdout",
     "output_type": "stream",
     "text": [
      " * sqlite:///chinook.db\n",
      "Done.\n"
     ]
    },
    {
     "data": {
      "text/html": [
       "<table>\n",
       "    <tr>\n",
       "        <th>invoice_line_id</th>\n",
       "        <th>invoice_id</th>\n",
       "        <th>track_id</th>\n",
       "        <th>unit_price</th>\n",
       "        <th>quantity</th>\n",
       "    </tr>\n",
       "    <tr>\n",
       "        <td>1</td>\n",
       "        <td>1</td>\n",
       "        <td>1158</td>\n",
       "        <td>0.99</td>\n",
       "        <td>1</td>\n",
       "    </tr>\n",
       "    <tr>\n",
       "        <td>2</td>\n",
       "        <td>1</td>\n",
       "        <td>1159</td>\n",
       "        <td>0.99</td>\n",
       "        <td>1</td>\n",
       "    </tr>\n",
       "    <tr>\n",
       "        <td>3</td>\n",
       "        <td>1</td>\n",
       "        <td>1160</td>\n",
       "        <td>0.99</td>\n",
       "        <td>1</td>\n",
       "    </tr>\n",
       "    <tr>\n",
       "        <td>4</td>\n",
       "        <td>1</td>\n",
       "        <td>1161</td>\n",
       "        <td>0.99</td>\n",
       "        <td>1</td>\n",
       "    </tr>\n",
       "    <tr>\n",
       "        <td>5</td>\n",
       "        <td>1</td>\n",
       "        <td>1162</td>\n",
       "        <td>0.99</td>\n",
       "        <td>1</td>\n",
       "    </tr>\n",
       "    <tr>\n",
       "        <td>6</td>\n",
       "        <td>1</td>\n",
       "        <td>1163</td>\n",
       "        <td>0.99</td>\n",
       "        <td>1</td>\n",
       "    </tr>\n",
       "    <tr>\n",
       "        <td>7</td>\n",
       "        <td>1</td>\n",
       "        <td>1164</td>\n",
       "        <td>0.99</td>\n",
       "        <td>1</td>\n",
       "    </tr>\n",
       "    <tr>\n",
       "        <td>8</td>\n",
       "        <td>1</td>\n",
       "        <td>1165</td>\n",
       "        <td>0.99</td>\n",
       "        <td>1</td>\n",
       "    </tr>\n",
       "    <tr>\n",
       "        <td>9</td>\n",
       "        <td>1</td>\n",
       "        <td>1166</td>\n",
       "        <td>0.99</td>\n",
       "        <td>1</td>\n",
       "    </tr>\n",
       "    <tr>\n",
       "        <td>10</td>\n",
       "        <td>1</td>\n",
       "        <td>1167</td>\n",
       "        <td>0.99</td>\n",
       "        <td>1</td>\n",
       "    </tr>\n",
       "    <tr>\n",
       "        <td>11</td>\n",
       "        <td>1</td>\n",
       "        <td>1168</td>\n",
       "        <td>0.99</td>\n",
       "        <td>1</td>\n",
       "    </tr>\n",
       "    <tr>\n",
       "        <td>12</td>\n",
       "        <td>1</td>\n",
       "        <td>1169</td>\n",
       "        <td>0.99</td>\n",
       "        <td>1</td>\n",
       "    </tr>\n",
       "    <tr>\n",
       "        <td>13</td>\n",
       "        <td>1</td>\n",
       "        <td>1170</td>\n",
       "        <td>0.99</td>\n",
       "        <td>1</td>\n",
       "    </tr>\n",
       "    <tr>\n",
       "        <td>14</td>\n",
       "        <td>1</td>\n",
       "        <td>1171</td>\n",
       "        <td>0.99</td>\n",
       "        <td>1</td>\n",
       "    </tr>\n",
       "    <tr>\n",
       "        <td>15</td>\n",
       "        <td>1</td>\n",
       "        <td>1172</td>\n",
       "        <td>0.99</td>\n",
       "        <td>1</td>\n",
       "    </tr>\n",
       "</table>"
      ],
      "text/plain": [
       "[(1, 1, 1158, 0.99, 1),\n",
       " (2, 1, 1159, 0.99, 1),\n",
       " (3, 1, 1160, 0.99, 1),\n",
       " (4, 1, 1161, 0.99, 1),\n",
       " (5, 1, 1162, 0.99, 1),\n",
       " (6, 1, 1163, 0.99, 1),\n",
       " (7, 1, 1164, 0.99, 1),\n",
       " (8, 1, 1165, 0.99, 1),\n",
       " (9, 1, 1166, 0.99, 1),\n",
       " (10, 1, 1167, 0.99, 1),\n",
       " (11, 1, 1168, 0.99, 1),\n",
       " (12, 1, 1169, 0.99, 1),\n",
       " (13, 1, 1170, 0.99, 1),\n",
       " (14, 1, 1171, 0.99, 1),\n",
       " (15, 1, 1172, 0.99, 1)]"
      ]
     },
     "execution_count": 8,
     "metadata": {},
     "output_type": "execute_result"
    }
   ],
   "source": [
    "%%sql \n",
    "\n",
    "SELECT * FROM invoice_line\n",
    "LIMIT 15;"
   ]
  },
  {
   "cell_type": "code",
   "execution_count": 9,
   "metadata": {},
   "outputs": [
    {
     "name": "stdout",
     "output_type": "stream",
     "text": [
      " * sqlite:///chinook.db\n",
      "Done.\n"
     ]
    },
    {
     "data": {
      "text/html": [
       "<table>\n",
       "    <tr>\n",
       "        <th>invoice_id</th>\n",
       "        <th>customer_id</th>\n",
       "        <th>invoice_date</th>\n",
       "        <th>billing_address</th>\n",
       "        <th>billing_city</th>\n",
       "        <th>billing_state</th>\n",
       "        <th>billing_country</th>\n",
       "        <th>billing_postal_code</th>\n",
       "        <th>total</th>\n",
       "    </tr>\n",
       "    <tr>\n",
       "        <td>1</td>\n",
       "        <td>18</td>\n",
       "        <td>2017-01-03 00:00:00</td>\n",
       "        <td>627 Broadway</td>\n",
       "        <td>New York</td>\n",
       "        <td>NY</td>\n",
       "        <td>USA</td>\n",
       "        <td>10012-2612</td>\n",
       "        <td>15.84</td>\n",
       "    </tr>\n",
       "    <tr>\n",
       "        <td>2</td>\n",
       "        <td>30</td>\n",
       "        <td>2017-01-03 00:00:00</td>\n",
       "        <td>230 Elgin Street</td>\n",
       "        <td>Ottawa</td>\n",
       "        <td>ON</td>\n",
       "        <td>Canada</td>\n",
       "        <td>K2P 1L7</td>\n",
       "        <td>9.9</td>\n",
       "    </tr>\n",
       "    <tr>\n",
       "        <td>3</td>\n",
       "        <td>40</td>\n",
       "        <td>2017-01-05 00:00:00</td>\n",
       "        <td>8, Rue Hanovre</td>\n",
       "        <td>Paris</td>\n",
       "        <td>None</td>\n",
       "        <td>France</td>\n",
       "        <td>75002</td>\n",
       "        <td>1.98</td>\n",
       "    </tr>\n",
       "    <tr>\n",
       "        <td>4</td>\n",
       "        <td>18</td>\n",
       "        <td>2017-01-06 00:00:00</td>\n",
       "        <td>627 Broadway</td>\n",
       "        <td>New York</td>\n",
       "        <td>NY</td>\n",
       "        <td>USA</td>\n",
       "        <td>10012-2612</td>\n",
       "        <td>7.92</td>\n",
       "    </tr>\n",
       "    <tr>\n",
       "        <td>5</td>\n",
       "        <td>27</td>\n",
       "        <td>2017-01-07 00:00:00</td>\n",
       "        <td>1033 N Park Ave</td>\n",
       "        <td>Tucson</td>\n",
       "        <td>AZ</td>\n",
       "        <td>USA</td>\n",
       "        <td>85719</td>\n",
       "        <td>16.83</td>\n",
       "    </tr>\n",
       "</table>"
      ],
      "text/plain": [
       "[(1, 18, '2017-01-03 00:00:00', '627 Broadway', 'New York', 'NY', 'USA', '10012-2612', 15.84),\n",
       " (2, 30, '2017-01-03 00:00:00', '230 Elgin Street', 'Ottawa', 'ON', 'Canada', 'K2P 1L7', 9.9),\n",
       " (3, 40, '2017-01-05 00:00:00', '8, Rue Hanovre', 'Paris', 'None', 'France', '75002', 1.98),\n",
       " (4, 18, '2017-01-06 00:00:00', '627 Broadway', 'New York', 'NY', 'USA', '10012-2612', 7.92),\n",
       " (5, 27, '2017-01-07 00:00:00', '1033 N Park Ave', 'Tucson', 'AZ', 'USA', '85719', 16.83)]"
      ]
     },
     "execution_count": 9,
     "metadata": {},
     "output_type": "execute_result"
    }
   ],
   "source": [
    "%%sql \n",
    "\n",
    "SELECT * FROM invoice\n",
    "LIMIT 5;"
   ]
  },
  {
   "cell_type": "markdown",
   "metadata": {},
   "source": [
    "The difference between *invoice* and *invoice_line* is that each row of the latter contains purchase information for a single track while the former contains information on a customer's single purchase. A single purchase may contain a single track, multiple tracks, entire albums, or any combination. The *invoice* table also contains the billing country for each purchase made. We can confirm these with the tables shown above. \n",
    "\n",
    "The first step we can do is to create a Common Table Expression (CTE) or \"temporary view\" that will contain all of the tracks that were sold with USA as the billing country in the invoice. "
   ]
  },
  {
   "cell_type": "markdown",
   "metadata": {},
   "source": [
    "```\n",
    "WITH \n",
    "tracks_sold_USA AS\n",
    "    (\n",
    "    SELECT\n",
    "        g.name genre,\n",
    "        t.name song_title, \n",
    "        i.billing_country       \n",
    "    FROM genre g\n",
    "    LEFT JOIN track t ON t.genre_id = g.genre_id\n",
    "    LEFT JOIN invoice_line il ON t.track_id = il.track_id\n",
    "    LEFT JOIN invoice i ON i.invoice_id = il.invoice_id\n",
    "    WHERE billing_country = 'USA'\n",
    "    )\n",
    "```"
   ]
  },
  {
   "cell_type": "markdown",
   "metadata": {},
   "source": [
    "In the cell above, we simply combined the four tables that we need with Left Joins, using the keys as shown in the schema diagram. We made sure to take into account every single purchase made from the store. We then filtered the result set (or the output) to only include three columns and the rows where `billing_country` is equal to USA. The query above is used as a CTE in our full query using the `WITH` clause. It is labeled as `tracks_sold_USA`"
   ]
  },
  {
   "cell_type": "markdown",
   "metadata": {},
   "source": [
    "```\n",
    "SELECT \n",
    "    genre, \n",
    "    COUNT(song_title) songs_sold,\n",
    "    ROUND(CAST(COUNT(song_title) AS FLOAT) / (\n",
    "                                             SELECT\n",
    "                                                COUNT(*)\n",
    "                                             FROM tracks_sold_USA\n",
    "                                             ) * 100, 4) perc_share\n",
    "FROM tracks_sold_USA\n",
    "GROUP BY 1\n",
    "ORDER BY 2 DESC;\n",
    "```"
   ]
  },
  {
   "cell_type": "markdown",
   "metadata": {},
   "source": [
    "The main query above will output the list of genres in order of the number of songs each has sold in the USA. The rows of the `tracks_sold_USA` are grouped by genre. For each genre, the number of songs sold is counted. The values are stored in a column, `songs_sold`. The corresponding percentage shares of these values are computed by dividing each by the total number of songs listed in `tracks_sold_USA`. This total value is computed using a nested query as can be seen. "
   ]
  },
  {
   "cell_type": "markdown",
   "metadata": {},
   "source": [
    "### Full query: Top Genres in USA"
   ]
  },
  {
   "cell_type": "code",
   "execution_count": 10,
   "metadata": {},
   "outputs": [
    {
     "name": "stdout",
     "output_type": "stream",
     "text": [
      " * sqlite:///chinook.db\n",
      "Done.\n"
     ]
    },
    {
     "data": {
      "text/html": [
       "<table>\n",
       "    <tr>\n",
       "        <th>genre</th>\n",
       "        <th>songs_sold</th>\n",
       "        <th>perc_share</th>\n",
       "    </tr>\n",
       "    <tr>\n",
       "        <td>Rock</td>\n",
       "        <td>561</td>\n",
       "        <td>53.3777</td>\n",
       "    </tr>\n",
       "    <tr>\n",
       "        <td>Alternative &amp; Punk</td>\n",
       "        <td>130</td>\n",
       "        <td>12.3692</td>\n",
       "    </tr>\n",
       "    <tr>\n",
       "        <td>Metal</td>\n",
       "        <td>124</td>\n",
       "        <td>11.7983</td>\n",
       "    </tr>\n",
       "    <tr>\n",
       "        <td>R&amp;B/Soul</td>\n",
       "        <td>53</td>\n",
       "        <td>5.0428</td>\n",
       "    </tr>\n",
       "    <tr>\n",
       "        <td>Blues</td>\n",
       "        <td>36</td>\n",
       "        <td>3.4253</td>\n",
       "    </tr>\n",
       "    <tr>\n",
       "        <td>Alternative</td>\n",
       "        <td>35</td>\n",
       "        <td>3.3302</td>\n",
       "    </tr>\n",
       "    <tr>\n",
       "        <td>Pop</td>\n",
       "        <td>22</td>\n",
       "        <td>2.0932</td>\n",
       "    </tr>\n",
       "    <tr>\n",
       "        <td>Latin</td>\n",
       "        <td>22</td>\n",
       "        <td>2.0932</td>\n",
       "    </tr>\n",
       "    <tr>\n",
       "        <td>Hip Hop/Rap</td>\n",
       "        <td>20</td>\n",
       "        <td>1.9029</td>\n",
       "    </tr>\n",
       "    <tr>\n",
       "        <td>Jazz</td>\n",
       "        <td>14</td>\n",
       "        <td>1.3321</td>\n",
       "    </tr>\n",
       "    <tr>\n",
       "        <td>Easy Listening</td>\n",
       "        <td>13</td>\n",
       "        <td>1.2369</td>\n",
       "    </tr>\n",
       "    <tr>\n",
       "        <td>Reggae</td>\n",
       "        <td>6</td>\n",
       "        <td>0.5709</td>\n",
       "    </tr>\n",
       "    <tr>\n",
       "        <td>Electronica/Dance</td>\n",
       "        <td>5</td>\n",
       "        <td>0.4757</td>\n",
       "    </tr>\n",
       "    <tr>\n",
       "        <td>Classical</td>\n",
       "        <td>4</td>\n",
       "        <td>0.3806</td>\n",
       "    </tr>\n",
       "    <tr>\n",
       "        <td>Heavy Metal</td>\n",
       "        <td>3</td>\n",
       "        <td>0.2854</td>\n",
       "    </tr>\n",
       "    <tr>\n",
       "        <td>Soundtrack</td>\n",
       "        <td>2</td>\n",
       "        <td>0.1903</td>\n",
       "    </tr>\n",
       "    <tr>\n",
       "        <td>TV Shows</td>\n",
       "        <td>1</td>\n",
       "        <td>0.0951</td>\n",
       "    </tr>\n",
       "</table>"
      ],
      "text/plain": [
       "[('Rock', 561, 53.3777),\n",
       " ('Alternative & Punk', 130, 12.3692),\n",
       " ('Metal', 124, 11.7983),\n",
       " ('R&B/Soul', 53, 5.0428),\n",
       " ('Blues', 36, 3.4253),\n",
       " ('Alternative', 35, 3.3302),\n",
       " ('Pop', 22, 2.0932),\n",
       " ('Latin', 22, 2.0932),\n",
       " ('Hip Hop/Rap', 20, 1.9029),\n",
       " ('Jazz', 14, 1.3321),\n",
       " ('Easy Listening', 13, 1.2369),\n",
       " ('Reggae', 6, 0.5709),\n",
       " ('Electronica/Dance', 5, 0.4757),\n",
       " ('Classical', 4, 0.3806),\n",
       " ('Heavy Metal', 3, 0.2854),\n",
       " ('Soundtrack', 2, 0.1903),\n",
       " ('TV Shows', 1, 0.0951)]"
      ]
     },
     "execution_count": 10,
     "metadata": {},
     "output_type": "execute_result"
    }
   ],
   "source": [
    "%%sql\n",
    "WITH \n",
    "tracks_sold_USA AS\n",
    "    (\n",
    "    SELECT\n",
    "        g.name genre,\n",
    "        t.name song_title, \n",
    "        i.billing_country       \n",
    "    FROM genre g\n",
    "    LEFT JOIN track t ON t.genre_id = g.genre_id\n",
    "    LEFT JOIN invoice_line il ON t.track_id = il.track_id\n",
    "    LEFT JOIN invoice i ON i.invoice_id = il.invoice_id\n",
    "    WHERE billing_country = 'USA'\n",
    "    )\n",
    "\n",
    "SELECT \n",
    "    genre, \n",
    "    COUNT(song_title) songs_sold,\n",
    "    ROUND(CAST(COUNT(song_title) AS FLOAT) / (\n",
    "                                             SELECT\n",
    "                                                COUNT(*)\n",
    "                                             FROM tracks_sold_USA\n",
    "                                             ) * 100, 4) perc_share\n",
    "FROM tracks_sold_USA\n",
    "GROUP BY 1\n",
    "ORDER BY 2 DESC;"
   ]
  },
  {
   "cell_type": "markdown",
   "metadata": {},
   "source": [
    "Based on the results of our full query, the Chinook team should choose the following artists:\n",
    "\n",
    "1. Red Tone (Punk)\n",
    "2. Slim Jim Bites (Blues)\n",
    "3. Meteor and the Girls (Pop)\n",
    "\n",
    "Together, the three genres only make up for around 18% of the total share of songs sold in the USA. The team should be on the lookout for Rock albums as this genre accounts for 53%."
   ]
  },
  {
   "cell_type": "markdown",
   "metadata": {},
   "source": [
    "# Top Performing Employees\n",
    "___"
   ]
  },
  {
   "cell_type": "markdown",
   "metadata": {},
   "source": [
    "### Scenario"
   ]
  },
  {
   "cell_type": "markdown",
   "metadata": {},
   "source": [
    "After their meeting on employee performance assessment, the managers of the store request us to help them determine their top employee for sales. They suggest that we use the total dollar amount of sales of each sales support agent as a metric. "
   ]
  },
  {
   "cell_type": "markdown",
   "metadata": {},
   "source": [
    "### Constructing Our Query"
   ]
  },
  {
   "cell_type": "markdown",
   "metadata": {},
   "source": [
    "[CLICK HERE](#Full-query:-Top-Performing-Employees) to skip to the full query.\n",
    "\n",
    "Given the scenario, we will use the following tables:\n",
    "\n",
    "1. employee \n",
    "2. customer (c_id, sr_id)\n",
    "3. invoice (total)\n",
    "\n",
    "Let's explore the first two tables."
   ]
  },
  {
   "cell_type": "code",
   "execution_count": 11,
   "metadata": {},
   "outputs": [
    {
     "name": "stdout",
     "output_type": "stream",
     "text": [
      " * sqlite:///chinook.db\n",
      "Done.\n"
     ]
    },
    {
     "data": {
      "text/html": [
       "<table>\n",
       "    <tr>\n",
       "        <th>employee_id</th>\n",
       "        <th>last_name</th>\n",
       "        <th>first_name</th>\n",
       "        <th>title</th>\n",
       "        <th>reports_to</th>\n",
       "        <th>birthdate</th>\n",
       "        <th>hire_date</th>\n",
       "        <th>address</th>\n",
       "        <th>city</th>\n",
       "        <th>state</th>\n",
       "        <th>country</th>\n",
       "        <th>postal_code</th>\n",
       "        <th>phone</th>\n",
       "        <th>fax</th>\n",
       "        <th>email</th>\n",
       "    </tr>\n",
       "    <tr>\n",
       "        <td>1</td>\n",
       "        <td>Adams</td>\n",
       "        <td>Andrew</td>\n",
       "        <td>General Manager</td>\n",
       "        <td>None</td>\n",
       "        <td>1962-02-18 00:00:00</td>\n",
       "        <td>2016-08-14 00:00:00</td>\n",
       "        <td>11120 Jasper Ave NW</td>\n",
       "        <td>Edmonton</td>\n",
       "        <td>AB</td>\n",
       "        <td>Canada</td>\n",
       "        <td>T5K 2N1</td>\n",
       "        <td>+1 (780) 428-9482</td>\n",
       "        <td>+1 (780) 428-3457</td>\n",
       "        <td>andrew@chinookcorp.com</td>\n",
       "    </tr>\n",
       "    <tr>\n",
       "        <td>2</td>\n",
       "        <td>Edwards</td>\n",
       "        <td>Nancy</td>\n",
       "        <td>Sales Manager</td>\n",
       "        <td>1</td>\n",
       "        <td>1958-12-08 00:00:00</td>\n",
       "        <td>2016-05-01 00:00:00</td>\n",
       "        <td>825 8 Ave SW</td>\n",
       "        <td>Calgary</td>\n",
       "        <td>AB</td>\n",
       "        <td>Canada</td>\n",
       "        <td>T2P 2T3</td>\n",
       "        <td>+1 (403) 262-3443</td>\n",
       "        <td>+1 (403) 262-3322</td>\n",
       "        <td>nancy@chinookcorp.com</td>\n",
       "    </tr>\n",
       "    <tr>\n",
       "        <td>3</td>\n",
       "        <td>Peacock</td>\n",
       "        <td>Jane</td>\n",
       "        <td>Sales Support Agent</td>\n",
       "        <td>2</td>\n",
       "        <td>1973-08-29 00:00:00</td>\n",
       "        <td>2017-04-01 00:00:00</td>\n",
       "        <td>1111 6 Ave SW</td>\n",
       "        <td>Calgary</td>\n",
       "        <td>AB</td>\n",
       "        <td>Canada</td>\n",
       "        <td>T2P 5M5</td>\n",
       "        <td>+1 (403) 262-3443</td>\n",
       "        <td>+1 (403) 262-6712</td>\n",
       "        <td>jane@chinookcorp.com</td>\n",
       "    </tr>\n",
       "    <tr>\n",
       "        <td>4</td>\n",
       "        <td>Park</td>\n",
       "        <td>Margaret</td>\n",
       "        <td>Sales Support Agent</td>\n",
       "        <td>2</td>\n",
       "        <td>1947-09-19 00:00:00</td>\n",
       "        <td>2017-05-03 00:00:00</td>\n",
       "        <td>683 10 Street SW</td>\n",
       "        <td>Calgary</td>\n",
       "        <td>AB</td>\n",
       "        <td>Canada</td>\n",
       "        <td>T2P 5G3</td>\n",
       "        <td>+1 (403) 263-4423</td>\n",
       "        <td>+1 (403) 263-4289</td>\n",
       "        <td>margaret@chinookcorp.com</td>\n",
       "    </tr>\n",
       "    <tr>\n",
       "        <td>5</td>\n",
       "        <td>Johnson</td>\n",
       "        <td>Steve</td>\n",
       "        <td>Sales Support Agent</td>\n",
       "        <td>2</td>\n",
       "        <td>1965-03-03 00:00:00</td>\n",
       "        <td>2017-10-17 00:00:00</td>\n",
       "        <td>7727B 41 Ave</td>\n",
       "        <td>Calgary</td>\n",
       "        <td>AB</td>\n",
       "        <td>Canada</td>\n",
       "        <td>T3B 1Y7</td>\n",
       "        <td>1 (780) 836-9987</td>\n",
       "        <td>1 (780) 836-9543</td>\n",
       "        <td>steve@chinookcorp.com</td>\n",
       "    </tr>\n",
       "    <tr>\n",
       "        <td>6</td>\n",
       "        <td>Mitchell</td>\n",
       "        <td>Michael</td>\n",
       "        <td>IT Manager</td>\n",
       "        <td>1</td>\n",
       "        <td>1973-07-01 00:00:00</td>\n",
       "        <td>2016-10-17 00:00:00</td>\n",
       "        <td>5827 Bowness Road NW</td>\n",
       "        <td>Calgary</td>\n",
       "        <td>AB</td>\n",
       "        <td>Canada</td>\n",
       "        <td>T3B 0C5</td>\n",
       "        <td>+1 (403) 246-9887</td>\n",
       "        <td>+1 (403) 246-9899</td>\n",
       "        <td>michael@chinookcorp.com</td>\n",
       "    </tr>\n",
       "    <tr>\n",
       "        <td>7</td>\n",
       "        <td>King</td>\n",
       "        <td>Robert</td>\n",
       "        <td>IT Staff</td>\n",
       "        <td>6</td>\n",
       "        <td>1970-05-29 00:00:00</td>\n",
       "        <td>2017-01-02 00:00:00</td>\n",
       "        <td>590 Columbia Boulevard West</td>\n",
       "        <td>Lethbridge</td>\n",
       "        <td>AB</td>\n",
       "        <td>Canada</td>\n",
       "        <td>T1K 5N8</td>\n",
       "        <td>+1 (403) 456-9986</td>\n",
       "        <td>+1 (403) 456-8485</td>\n",
       "        <td>robert@chinookcorp.com</td>\n",
       "    </tr>\n",
       "    <tr>\n",
       "        <td>8</td>\n",
       "        <td>Callahan</td>\n",
       "        <td>Laura</td>\n",
       "        <td>IT Staff</td>\n",
       "        <td>6</td>\n",
       "        <td>1968-01-09 00:00:00</td>\n",
       "        <td>2017-03-04 00:00:00</td>\n",
       "        <td>923 7 ST NW</td>\n",
       "        <td>Lethbridge</td>\n",
       "        <td>AB</td>\n",
       "        <td>Canada</td>\n",
       "        <td>T1H 1Y8</td>\n",
       "        <td>+1 (403) 467-3351</td>\n",
       "        <td>+1 (403) 467-8772</td>\n",
       "        <td>laura@chinookcorp.com</td>\n",
       "    </tr>\n",
       "</table>"
      ],
      "text/plain": [
       "[(1, 'Adams', 'Andrew', 'General Manager', None, '1962-02-18 00:00:00', '2016-08-14 00:00:00', '11120 Jasper Ave NW', 'Edmonton', 'AB', 'Canada', 'T5K 2N1', '+1 (780) 428-9482', '+1 (780) 428-3457', 'andrew@chinookcorp.com'),\n",
       " (2, 'Edwards', 'Nancy', 'Sales Manager', 1, '1958-12-08 00:00:00', '2016-05-01 00:00:00', '825 8 Ave SW', 'Calgary', 'AB', 'Canada', 'T2P 2T3', '+1 (403) 262-3443', '+1 (403) 262-3322', 'nancy@chinookcorp.com'),\n",
       " (3, 'Peacock', 'Jane', 'Sales Support Agent', 2, '1973-08-29 00:00:00', '2017-04-01 00:00:00', '1111 6 Ave SW', 'Calgary', 'AB', 'Canada', 'T2P 5M5', '+1 (403) 262-3443', '+1 (403) 262-6712', 'jane@chinookcorp.com'),\n",
       " (4, 'Park', 'Margaret', 'Sales Support Agent', 2, '1947-09-19 00:00:00', '2017-05-03 00:00:00', '683 10 Street SW', 'Calgary', 'AB', 'Canada', 'T2P 5G3', '+1 (403) 263-4423', '+1 (403) 263-4289', 'margaret@chinookcorp.com'),\n",
       " (5, 'Johnson', 'Steve', 'Sales Support Agent', 2, '1965-03-03 00:00:00', '2017-10-17 00:00:00', '7727B 41 Ave', 'Calgary', 'AB', 'Canada', 'T3B 1Y7', '1 (780) 836-9987', '1 (780) 836-9543', 'steve@chinookcorp.com'),\n",
       " (6, 'Mitchell', 'Michael', 'IT Manager', 1, '1973-07-01 00:00:00', '2016-10-17 00:00:00', '5827 Bowness Road NW', 'Calgary', 'AB', 'Canada', 'T3B 0C5', '+1 (403) 246-9887', '+1 (403) 246-9899', 'michael@chinookcorp.com'),\n",
       " (7, 'King', 'Robert', 'IT Staff', 6, '1970-05-29 00:00:00', '2017-01-02 00:00:00', '590 Columbia Boulevard West', 'Lethbridge', 'AB', 'Canada', 'T1K 5N8', '+1 (403) 456-9986', '+1 (403) 456-8485', 'robert@chinookcorp.com'),\n",
       " (8, 'Callahan', 'Laura', 'IT Staff', 6, '1968-01-09 00:00:00', '2017-03-04 00:00:00', '923 7 ST NW', 'Lethbridge', 'AB', 'Canada', 'T1H 1Y8', '+1 (403) 467-3351', '+1 (403) 467-8772', 'laura@chinookcorp.com')]"
      ]
     },
     "execution_count": 11,
     "metadata": {},
     "output_type": "execute_result"
    }
   ],
   "source": [
    "%%sql\n",
    "\n",
    "SELECT \n",
    "    *\n",
    "FROM employee"
   ]
  },
  {
   "cell_type": "markdown",
   "metadata": {},
   "source": [
    "We see that there are only three employees whose total sales we want to determine. What we can do in our final query is to concatenate the `last_name` and `first_name` columns to display each employee's full name in a single column. \n",
    "\n",
    "We can also notice that there is a column, `hire_date`. We should include this in our result set to see if this could have a potential influence in an employee's sales. "
   ]
  },
  {
   "cell_type": "code",
   "execution_count": 12,
   "metadata": {},
   "outputs": [
    {
     "name": "stdout",
     "output_type": "stream",
     "text": [
      " * sqlite:///chinook.db\n",
      "Done.\n"
     ]
    },
    {
     "data": {
      "text/html": [
       "<table>\n",
       "    <tr>\n",
       "        <th>customer_id</th>\n",
       "        <th>first_name</th>\n",
       "        <th>last_name</th>\n",
       "        <th>company</th>\n",
       "        <th>address</th>\n",
       "        <th>city</th>\n",
       "        <th>state</th>\n",
       "        <th>country</th>\n",
       "        <th>postal_code</th>\n",
       "        <th>phone</th>\n",
       "        <th>fax</th>\n",
       "        <th>email</th>\n",
       "        <th>support_rep_id</th>\n",
       "    </tr>\n",
       "    <tr>\n",
       "        <td>1</td>\n",
       "        <td>Luís</td>\n",
       "        <td>Gonçalves</td>\n",
       "        <td>Embraer - Empresa Brasileira de Aeronáutica S.A.</td>\n",
       "        <td>Av. Brigadeiro Faria Lima, 2170</td>\n",
       "        <td>São José dos Campos</td>\n",
       "        <td>SP</td>\n",
       "        <td>Brazil</td>\n",
       "        <td>12227-000</td>\n",
       "        <td>+55 (12) 3923-5555</td>\n",
       "        <td>+55 (12) 3923-5566</td>\n",
       "        <td>luisg@embraer.com.br</td>\n",
       "        <td>3</td>\n",
       "    </tr>\n",
       "    <tr>\n",
       "        <td>2</td>\n",
       "        <td>Leonie</td>\n",
       "        <td>Köhler</td>\n",
       "        <td>None</td>\n",
       "        <td>Theodor-Heuss-Straße 34</td>\n",
       "        <td>Stuttgart</td>\n",
       "        <td>None</td>\n",
       "        <td>Germany</td>\n",
       "        <td>70174</td>\n",
       "        <td>+49 0711 2842222</td>\n",
       "        <td>None</td>\n",
       "        <td>leonekohler@surfeu.de</td>\n",
       "        <td>5</td>\n",
       "    </tr>\n",
       "    <tr>\n",
       "        <td>3</td>\n",
       "        <td>François</td>\n",
       "        <td>Tremblay</td>\n",
       "        <td>None</td>\n",
       "        <td>1498 rue Bélanger</td>\n",
       "        <td>Montréal</td>\n",
       "        <td>QC</td>\n",
       "        <td>Canada</td>\n",
       "        <td>H2G 1A7</td>\n",
       "        <td>+1 (514) 721-4711</td>\n",
       "        <td>None</td>\n",
       "        <td>ftremblay@gmail.com</td>\n",
       "        <td>3</td>\n",
       "    </tr>\n",
       "    <tr>\n",
       "        <td>4</td>\n",
       "        <td>Bjørn</td>\n",
       "        <td>Hansen</td>\n",
       "        <td>None</td>\n",
       "        <td>Ullevålsveien 14</td>\n",
       "        <td>Oslo</td>\n",
       "        <td>None</td>\n",
       "        <td>Norway</td>\n",
       "        <td>0171</td>\n",
       "        <td>+47 22 44 22 22</td>\n",
       "        <td>None</td>\n",
       "        <td>bjorn.hansen@yahoo.no</td>\n",
       "        <td>4</td>\n",
       "    </tr>\n",
       "    <tr>\n",
       "        <td>5</td>\n",
       "        <td>František</td>\n",
       "        <td>Wichterlová</td>\n",
       "        <td>JetBrains s.r.o.</td>\n",
       "        <td>Klanova 9/506</td>\n",
       "        <td>Prague</td>\n",
       "        <td>None</td>\n",
       "        <td>Czech Republic</td>\n",
       "        <td>14700</td>\n",
       "        <td>+420 2 4172 5555</td>\n",
       "        <td>+420 2 4172 5555</td>\n",
       "        <td>frantisekw@jetbrains.com</td>\n",
       "        <td>4</td>\n",
       "    </tr>\n",
       "</table>"
      ],
      "text/plain": [
       "[(1, 'Luís', 'Gonçalves', 'Embraer - Empresa Brasileira de Aeronáutica S.A.', 'Av. Brigadeiro Faria Lima, 2170', 'São José dos Campos', 'SP', 'Brazil', '12227-000', '+55 (12) 3923-5555', '+55 (12) 3923-5566', 'luisg@embraer.com.br', 3),\n",
       " (2, 'Leonie', 'Köhler', None, 'Theodor-Heuss-Straße 34', 'Stuttgart', None, 'Germany', '70174', '+49 0711 2842222', None, 'leonekohler@surfeu.de', 5),\n",
       " (3, 'François', 'Tremblay', None, '1498 rue Bélanger', 'Montréal', 'QC', 'Canada', 'H2G 1A7', '+1 (514) 721-4711', None, 'ftremblay@gmail.com', 3),\n",
       " (4, 'Bjørn', 'Hansen', None, 'Ullevålsveien 14', 'Oslo', None, 'Norway', '0171', '+47 22 44 22 22', None, 'bjorn.hansen@yahoo.no', 4),\n",
       " (5, 'František', 'Wichterlová', 'JetBrains s.r.o.', 'Klanova 9/506', 'Prague', None, 'Czech Republic', '14700', '+420 2 4172 5555', '+420 2 4172 5555', 'frantisekw@jetbrains.com', 4)]"
      ]
     },
     "execution_count": 12,
     "metadata": {},
     "output_type": "execute_result"
    }
   ],
   "source": [
    "%%sql\n",
    "\n",
    "SELECT * FROM customer\n",
    "LIMIT 5;"
   ]
  },
  {
   "cell_type": "markdown",
   "metadata": {},
   "source": [
    "Our query does not have to be complex to answer the managers' question. First is to combine our three tables using Left Joins. We can take into account all purchases of all customers by using `invoice` as the last Left Join. We then filter our result set where the `title` column of `employee` is equal to `Sales Support Agent`. Grouping by employee name (full name), we create a new column containing the total sales per employee. This is done by taking the sum of the `total` column from the `invoice` table. The `total` column contains the amount paid per purchase. \n",
    "\n",
    "Our final query can be found in the next section below. "
   ]
  },
  {
   "cell_type": "markdown",
   "metadata": {},
   "source": [
    "### Full query: Top Performing Employees"
   ]
  },
  {
   "cell_type": "code",
   "execution_count": 13,
   "metadata": {},
   "outputs": [
    {
     "name": "stdout",
     "output_type": "stream",
     "text": [
      " * sqlite:///chinook.db\n",
      "Done.\n"
     ]
    },
    {
     "data": {
      "text/html": [
       "<table>\n",
       "    <tr>\n",
       "        <th>employee_name</th>\n",
       "        <th>title</th>\n",
       "        <th>hire_date</th>\n",
       "        <th>total_sales_per_employee</th>\n",
       "    </tr>\n",
       "    <tr>\n",
       "        <td>Jane Peacock</td>\n",
       "        <td>Sales Support Agent</td>\n",
       "        <td>2017-04-01 00:00:00</td>\n",
       "        <td>1731.51</td>\n",
       "    </tr>\n",
       "    <tr>\n",
       "        <td>Margaret Park</td>\n",
       "        <td>Sales Support Agent</td>\n",
       "        <td>2017-05-03 00:00:00</td>\n",
       "        <td>1584.0</td>\n",
       "    </tr>\n",
       "    <tr>\n",
       "        <td>Steve Johnson</td>\n",
       "        <td>Sales Support Agent</td>\n",
       "        <td>2017-10-17 00:00:00</td>\n",
       "        <td>1393.92</td>\n",
       "    </tr>\n",
       "</table>"
      ],
      "text/plain": [
       "[('Jane Peacock', 'Sales Support Agent', '2017-04-01 00:00:00', 1731.51),\n",
       " ('Margaret Park', 'Sales Support Agent', '2017-05-03 00:00:00', 1584.0),\n",
       " ('Steve Johnson', 'Sales Support Agent', '2017-10-17 00:00:00', 1393.92)]"
      ]
     },
     "execution_count": 13,
     "metadata": {},
     "output_type": "execute_result"
    }
   ],
   "source": [
    "%%sql\n",
    "\n",
    "SELECT \n",
    "    e.first_name ||' '|| e.last_name employee_name,\n",
    "    e.title, \n",
    "    hire_date,\n",
    "    ROUND(SUM(total), 2) total_sales_per_employee\n",
    "FROM employee e\n",
    "LEFT JOIN customer c ON c.support_rep_id = e.employee_id\n",
    "LEFT JOIN invoice i ON i.customer_id = c.customer_id\n",
    "WHERE e.title = 'Sales Support Agent'\n",
    "GROUP BY employee_name;\n"
   ]
  },
  {
   "cell_type": "markdown",
   "metadata": {},
   "source": [
    "We can see that Jane Peacock has the highest total sales at 1731.51 USD. Looking at the `hire_date` column, though, we notice that she was the first to be hired among the three Sales Support Agents. The other two, who were hired at later dates, have correspondingly lower total sales. Though not conclusive in itself, it is possible that the hire dates influenced the total sales that each employee was able to make. "
   ]
  },
  {
   "cell_type": "markdown",
   "metadata": {},
   "source": [
    "# Analyzing Sales by Country\n",
    "___"
   ]
  },
  {
   "cell_type": "markdown",
   "metadata": {},
   "source": [
    "### Scenario"
   ]
  },
  {
   "cell_type": "markdown",
   "metadata": {},
   "source": [
    "The team wants to find out how the store is performing among different countries. To do this, we have been tasked to analyze customers' sales data from each country. We have been told use the `country` column from the `customer` table instead of `billing_country` from the `invoice` table. For each country, we need to include the following information in our results:\n",
    "- total number of customers\n",
    "- total value of sales\n",
    "- average value of sales per customer\n",
    "- average order value (ave. price per purchase)\n",
    "\n",
    "We are also told to group countries with only one customer as \"Other\". The result set should be in descending order of total sales. The \"Other\" group should be at the bottom of the list regardless of total sales. "
   ]
  },
  {
   "cell_type": "markdown",
   "metadata": {},
   "source": [
    "### Constructing Our Query"
   ]
  },
  {
   "cell_type": "markdown",
   "metadata": {},
   "source": [
    "[CLICK HERE](#Full-query:-Sales-by-Country) to skip to the full query.\n",
    "\n",
    "We will only need three tables for this query:\n",
    "1. customer\n",
    "2. invoice\n",
    "3. invoice_line\n",
    "\n",
    "However, due to the nature of the request, the query will be more complex than our previous ones. Here's how our thought process would go when constructing it:\n",
    "1. Classify if a country belongs to the \"Other\" group\n",
    "2. See how the \"Other\" group will always appear at the bottom\n",
    "3. Compute the required information\n",
    "4. Display the final result set\n",
    "\n",
    "For step one, we can create a CTE just like when we determined the top genres in the USA. Here's how it will look like:"
   ]
  },
  {
   "cell_type": "markdown",
   "metadata": {},
   "source": [
    "```\n",
    "WITH \n",
    "country_or_other AS\n",
    "    (\n",
    "    SELECT \n",
    "        c.customer_id, \n",
    "        CASE \n",
    "            WHEN \n",
    "                (\n",
    "                SELECT COUNT(*)\n",
    "                FROM customer \n",
    "                WHERE country = c.country\n",
    "                ) = 1 THEN 'Other'\n",
    "            ELSE country\n",
    "        END AS country_grouped,\n",
    "        il.*\n",
    "    FROM customer c\n",
    "    LEFT JOIN invoice i ON i.customer_id = c.customer_id\n",
    "    LEFT JOIN invoice_line il ON il.invoice_id = i.invoice_id\n",
    "    ORDER BY invoice_line_id\n",
    "    )\n",
    "```"
   ]
  },
  {
   "cell_type": "markdown",
   "metadata": {},
   "source": [
    "It looks a bit complicated at first due to the `CASE` statement. The rest of the query just combines our tables, selects certains columns, and orders the temporary result set by `invoice_line_id`. Let's take a closer look at the `CASE` statement:"
   ]
  },
  {
   "cell_type": "markdown",
   "metadata": {},
   "source": [
    "```\n",
    "CASE \n",
    "    WHEN \n",
    "        (\n",
    "        SELECT COUNT(*)\n",
    "        FROM customer \n",
    "        WHERE country = c.country\n",
    "        ) = 1 THEN 'Other'\n",
    "    ELSE country\n",
    "END AS country_grouped\n",
    "```"
   ]
  },
  {
   "cell_type": "markdown",
   "metadata": {},
   "source": [
    "The `CASE` statement simply returns an output based on a certain condition. In our case, it outputs either \"Other\" or a country's name. After our three tables are combined, the `CASE` statement acts on the `country` column of each row. For each row, nested query counts the number of occurrences of the country's name in the original `customer` table. If the occurrence is one, \"Other\" is returned. If otherwise, the country's name is returned. The results are stored in a new column, `country_grouped`.\n",
    "\n",
    "For step two, we can create another CTE:"
   ]
  },
  {
   "cell_type": "markdown",
   "metadata": {},
   "source": [
    "```\n",
    "country_ordered AS\n",
    "    (\n",
    "    SELECT \n",
    "       *,\n",
    "       CASE\n",
    "           WHEN country_grouped = 'Other' THEN 1\n",
    "           ELSE 0\n",
    "       END AS sort\n",
    "    FROM country_or_other\n",
    "    )\n",
    "```"
   ]
  },
  {
   "cell_type": "markdown",
   "metadata": {},
   "source": [
    "The above CTE simply takes all the columns from the `country_or_other` CTE and creates an additional one. This new column assigns a label to the row based on the `country_grouped` column. If a row belongs to the \"Other\" group, a label of `1` is assigned, `0` if otherwise. Sorting the final result set by this column *first* will allow the \"Other\" group to be always at the bottom, regardless of total sales. This columns is aptly named `sort`. \n",
    "\n",
    "Since we will use multiple CTEs, the `WITH` statement need only appear once before the first CTE. A comma needs to separate the two. These are seen in the [full query](#Full-query:-Sales-by-Country). \n",
    "\n",
    "Our main query can now be constructed to address steps three and four:"
   ]
  },
  {
   "cell_type": "markdown",
   "metadata": {},
   "source": [
    "```\n",
    "SELECT        \n",
    "    country_grouped,\n",
    "    COUNT(DISTINCT(customer_id)) customers_per_country,\n",
    "    ROUND(SUM(unit_price), 2) total_sales_country,\n",
    "    ROUND(SUM(unit_price) / COUNT(DISTINCT(customer_id)), 2) ave_sales_customer,\n",
    "    ROUND(SUM(unit_price) / COUNT(DISTINCT(invoice_id)), 2) ave_order_value\n",
    "FROM country_ordered\n",
    "GROUP BY country_grouped\n",
    "ORDER BY sort, 3 DESC;\n",
    "```"
   ]
  },
  {
   "cell_type": "markdown",
   "metadata": {},
   "source": [
    "From `country_ordered`, we select the `country_grouped` column and group the result set by this. We create four new ones containing the required information. The last three columns are rounded to two decimal places to make the output more readable. Note that in the `ORDER BY` statement, the result set is first ordered by the `sort` column, followed by the `total_sales_country` column. \n",
    "\n",
    "We can combine everything in the full query below. "
   ]
  },
  {
   "cell_type": "markdown",
   "metadata": {},
   "source": [
    "### Full query: Sales by Country"
   ]
  },
  {
   "cell_type": "code",
   "execution_count": 14,
   "metadata": {},
   "outputs": [
    {
     "name": "stdout",
     "output_type": "stream",
     "text": [
      " * sqlite:///chinook.db\n",
      "Done.\n"
     ]
    },
    {
     "data": {
      "text/html": [
       "<table>\n",
       "    <tr>\n",
       "        <th>country_grouped</th>\n",
       "        <th>customers_per_country</th>\n",
       "        <th>total_sales_country</th>\n",
       "        <th>ave_sales_customer</th>\n",
       "        <th>ave_order_value</th>\n",
       "    </tr>\n",
       "    <tr>\n",
       "        <td>USA</td>\n",
       "        <td>13</td>\n",
       "        <td>1040.49</td>\n",
       "        <td>80.04</td>\n",
       "        <td>7.94</td>\n",
       "    </tr>\n",
       "    <tr>\n",
       "        <td>Canada</td>\n",
       "        <td>8</td>\n",
       "        <td>535.59</td>\n",
       "        <td>66.95</td>\n",
       "        <td>7.05</td>\n",
       "    </tr>\n",
       "    <tr>\n",
       "        <td>Brazil</td>\n",
       "        <td>5</td>\n",
       "        <td>427.68</td>\n",
       "        <td>85.54</td>\n",
       "        <td>7.01</td>\n",
       "    </tr>\n",
       "    <tr>\n",
       "        <td>France</td>\n",
       "        <td>5</td>\n",
       "        <td>389.07</td>\n",
       "        <td>77.81</td>\n",
       "        <td>7.78</td>\n",
       "    </tr>\n",
       "    <tr>\n",
       "        <td>Germany</td>\n",
       "        <td>4</td>\n",
       "        <td>334.62</td>\n",
       "        <td>83.66</td>\n",
       "        <td>8.16</td>\n",
       "    </tr>\n",
       "    <tr>\n",
       "        <td>Czech Republic</td>\n",
       "        <td>2</td>\n",
       "        <td>273.24</td>\n",
       "        <td>136.62</td>\n",
       "        <td>9.11</td>\n",
       "    </tr>\n",
       "    <tr>\n",
       "        <td>United Kingdom</td>\n",
       "        <td>3</td>\n",
       "        <td>245.52</td>\n",
       "        <td>81.84</td>\n",
       "        <td>8.77</td>\n",
       "    </tr>\n",
       "    <tr>\n",
       "        <td>Portugal</td>\n",
       "        <td>2</td>\n",
       "        <td>185.13</td>\n",
       "        <td>92.57</td>\n",
       "        <td>6.38</td>\n",
       "    </tr>\n",
       "    <tr>\n",
       "        <td>India</td>\n",
       "        <td>2</td>\n",
       "        <td>183.15</td>\n",
       "        <td>91.58</td>\n",
       "        <td>8.72</td>\n",
       "    </tr>\n",
       "    <tr>\n",
       "        <td>Other</td>\n",
       "        <td>15</td>\n",
       "        <td>1094.94</td>\n",
       "        <td>73.0</td>\n",
       "        <td>7.45</td>\n",
       "    </tr>\n",
       "</table>"
      ],
      "text/plain": [
       "[('USA', 13, 1040.49, 80.04, 7.94),\n",
       " ('Canada', 8, 535.59, 66.95, 7.05),\n",
       " ('Brazil', 5, 427.68, 85.54, 7.01),\n",
       " ('France', 5, 389.07, 77.81, 7.78),\n",
       " ('Germany', 4, 334.62, 83.66, 8.16),\n",
       " ('Czech Republic', 2, 273.24, 136.62, 9.11),\n",
       " ('United Kingdom', 3, 245.52, 81.84, 8.77),\n",
       " ('Portugal', 2, 185.13, 92.57, 6.38),\n",
       " ('India', 2, 183.15, 91.58, 8.72),\n",
       " ('Other', 15, 1094.94, 73.0, 7.45)]"
      ]
     },
     "execution_count": 14,
     "metadata": {},
     "output_type": "execute_result"
    }
   ],
   "source": [
    "%%sql\n",
    "WITH \n",
    "country_or_other AS\n",
    "    (\n",
    "    SELECT \n",
    "        c.customer_id, \n",
    "        CASE \n",
    "            WHEN \n",
    "                (\n",
    "                SELECT COUNT(*)\n",
    "                FROM customer \n",
    "                WHERE country = c.country\n",
    "                ) = 1 THEN 'Other'\n",
    "            ELSE country\n",
    "        END AS country_grouped,\n",
    "        il.*\n",
    "    FROM customer c\n",
    "    LEFT JOIN invoice i ON i.customer_id = c.customer_id\n",
    "    LEFT JOIN invoice_line il ON il.invoice_id = i.invoice_id\n",
    "    ORDER BY invoice_line_id\n",
    "    ),\n",
    "country_ordered AS\n",
    "    (\n",
    "    SELECT \n",
    "       *,\n",
    "       CASE\n",
    "           WHEN country_grouped = 'Other' THEN 1\n",
    "           ELSE 0\n",
    "       END AS sort\n",
    "    FROM country_or_other\n",
    "    )\n",
    "    \n",
    "SELECT        \n",
    "    country_grouped,\n",
    "    COUNT(DISTINCT(customer_id)) customers_per_country,\n",
    "    ROUND(SUM(unit_price), 2) total_sales_country,\n",
    "    ROUND(SUM(unit_price) / COUNT(DISTINCT(customer_id)), 2) ave_sales_customer,\n",
    "    ROUND(SUM(unit_price) / COUNT(DISTINCT(invoice_id)), 2) ave_order_value\n",
    "FROM country_ordered\n",
    "GROUP BY country_grouped\n",
    "ORDER BY sort, 3 DESC;"
   ]
  },
  {
   "cell_type": "markdown",
   "metadata": {},
   "source": [
    "Above, we can see that our query executed correctly. Sales data of customers from each country is summarized above in a clear manner. We see that the USA has the highest number of customers and the highest total sales. As for customers who spend the most per purchase, we can see that these come from the Czech Republic. \n",
    "\n",
    "If the Chinook team wishes to ramp up their marketing in other countries, the Czech Republic, United Kingdom, and India are possible countries we could recommend to them. This is because the customers from these countries have the highest expenditures per purchase as compared to the rest. We would advise them, though, to gather more data as the sample sizes shown are quite small and may not be representative of other potential customers from these countries. "
   ]
  },
  {
   "cell_type": "markdown",
   "metadata": {},
   "source": [
    "# Albums vs. Individual Tracks \n",
    "___"
   ]
  },
  {
   "cell_type": "markdown",
   "metadata": {},
   "source": [
    "### Scenario"
   ]
  },
  {
   "cell_type": "markdown",
   "metadata": {},
   "source": [
    "The Chinook team is discussing how to conduct their future inventory purchases. They want to find out if it will be a good choice to purchase only individual tracks and to stop purchasing whole albums. To help them in their decision, we need to determine how many of the number total purchases fall in either category. \n",
    "\n",
    "There are some caveats to this that make our task tricky. One is that there are some albums that have only track. Another caveat is that, in a single purchase (single invoice), a customer may have purchased an entire album plus some individual tracks. The two caveats may be combined in that the album in combined purchase is a single track album. Taking these into account will complicate our query by having to classify that purchase as both an \"Album\" and an \"Individual\" purchase. It is also possible that a customer (for some reason) may have bought the tracks of an entire album in separate purchases or invoices. \n",
    "\n",
    "Fortunately, we have been told not to worry about these due to either their non-existence or their negligibility in the dataset. "
   ]
  },
  {
   "cell_type": "markdown",
   "metadata": {},
   "source": [
    "### Constructing Our Query"
   ]
  },
  {
   "cell_type": "markdown",
   "metadata": {},
   "source": [
    "[CLICK HERE](#Full-query:-Albums-vs.-Individual-Tracks) to skip to the full query.\n",
    "\n",
    "The following tables will be used in our query:\n",
    "1. invoice_line\n",
    "2. track\n",
    "\n",
    "With the advice given to us, we can simplify our query to make the following classifications:\n",
    "1. Purchases with only one entire album in them will classified as \"Album\" Purchases. There are no purchases with two or more whole albums. \n",
    "2. \"Individual\" purchases will be those composed of individual tracks. If an entire album (single-track or multi-track) is present in the same purchase, it will still be classified as \"Individual\". \n",
    "\n",
    "Similar to our previous queries, we will create a CTE to handle our classification. If [you skip to the full query](#Full-query:-Albums-vs.-Individual-Tracks), it is evident that this is our longest CTE. This is due to the lengthy `CASE` statement used for classification. Let's take a look at it below without the `CASE` and `WITH` statements. "
   ]
  },
  {
   "cell_type": "code",
   "execution_count": 26,
   "metadata": {},
   "outputs": [
    {
     "name": "stdout",
     "output_type": "stream",
     "text": [
      " * sqlite:///chinook.db\n",
      "Done.\n"
     ]
    },
    {
     "data": {
      "text/html": [
       "<table>\n",
       "    <tr>\n",
       "        <th>invoice_id</th>\n",
       "        <th>invoice_line_id</th>\n",
       "        <th>track_id</th>\n",
       "        <th>album_id</th>\n",
       "        <th>purchase_price</th>\n",
       "    </tr>\n",
       "    <tr>\n",
       "        <td>1</td>\n",
       "        <td>1</td>\n",
       "        <td>1158</td>\n",
       "        <td>91</td>\n",
       "        <td>15.84</td>\n",
       "    </tr>\n",
       "    <tr>\n",
       "        <td>2</td>\n",
       "        <td>17</td>\n",
       "        <td>3476</td>\n",
       "        <td>322</td>\n",
       "        <td>9.9</td>\n",
       "    </tr>\n",
       "    <tr>\n",
       "        <td>3</td>\n",
       "        <td>27</td>\n",
       "        <td>2516</td>\n",
       "        <td>203</td>\n",
       "        <td>1.98</td>\n",
       "    </tr>\n",
       "    <tr>\n",
       "        <td>4</td>\n",
       "        <td>29</td>\n",
       "        <td>3448</td>\n",
       "        <td>314</td>\n",
       "        <td>7.92</td>\n",
       "    </tr>\n",
       "    <tr>\n",
       "        <td>5</td>\n",
       "        <td>37</td>\n",
       "        <td>1986</td>\n",
       "        <td>163</td>\n",
       "        <td>16.83</td>\n",
       "    </tr>\n",
       "    <tr>\n",
       "        <td>6</td>\n",
       "        <td>54</td>\n",
       "        <td>1045</td>\n",
       "        <td>83</td>\n",
       "        <td>1.98</td>\n",
       "    </tr>\n",
       "    <tr>\n",
       "        <td>7</td>\n",
       "        <td>56</td>\n",
       "        <td>3477</td>\n",
       "        <td>322</td>\n",
       "        <td>10.89</td>\n",
       "    </tr>\n",
       "    <tr>\n",
       "        <td>8</td>\n",
       "        <td>67</td>\n",
       "        <td>2231</td>\n",
       "        <td>183</td>\n",
       "        <td>9.9</td>\n",
       "    </tr>\n",
       "    <tr>\n",
       "        <td>9</td>\n",
       "        <td>77</td>\n",
       "        <td>206</td>\n",
       "        <td>21</td>\n",
       "        <td>8.91</td>\n",
       "    </tr>\n",
       "    <tr>\n",
       "        <td>10</td>\n",
       "        <td>86</td>\n",
       "        <td>2663</td>\n",
       "        <td>215</td>\n",
       "        <td>1.98</td>\n",
       "    </tr>\n",
       "</table>"
      ],
      "text/plain": [
       "[(1, 1, 1158, 91, 15.84),\n",
       " (2, 17, 3476, 322, 9.9),\n",
       " (3, 27, 2516, 203, 1.98),\n",
       " (4, 29, 3448, 314, 7.92),\n",
       " (5, 37, 1986, 163, 16.83),\n",
       " (6, 54, 1045, 83, 1.98),\n",
       " (7, 56, 3477, 322, 10.89),\n",
       " (8, 67, 2231, 183, 9.9),\n",
       " (9, 77, 206, 21, 8.91),\n",
       " (10, 86, 2663, 215, 1.98)]"
      ]
     },
     "execution_count": 26,
     "metadata": {},
     "output_type": "execute_result"
    }
   ],
   "source": [
    "%%sql\n",
    "SELECT\n",
    "    il.invoice_id,\n",
    "    invoice_line_id,\n",
    "    t.track_id,\n",
    "    album_id,\n",
    "    ROUND(SUM(il.unit_price),2) purchase_price\n",
    "FROM invoice_line il\n",
    "LEFT JOIN track t ON t.track_id = il.track_id\n",
    "GROUP BY invoice_id\n",
    "LIMIT 10;"
   ]
  },
  {
   "cell_type": "markdown",
   "metadata": {},
   "source": [
    "We combine `invoice_line` and `track`. Grouping by the `invoice_id` column, we only perform a summary operation on `unit_price` to get the price of each purchase. For the other three columns, the retained values are actually the *first* values for each group (recall that an invoice can contain multiple tracks). Only the *first* track is retained if we do not carry out summary operations like `SUM()` or `MAX()`. We will only need these first values for our classification as we will see below. "
   ]
  },
  {
   "cell_type": "markdown",
   "metadata": {},
   "source": [
    "```\n",
    "CASE\n",
    "    WHEN\n",
    "        (\n",
    "\n",
    "/* FIRST PART */\n",
    "        \n",
    "        SELECT track_id \n",
    "        FROM track\n",
    "        WHERE album_id = t.album_id /* Selects whole album */\n",
    "\n",
    "        EXCEPT\n",
    "\n",
    "        SELECT track_id \n",
    "        FROM invoice_line\n",
    "        WHERE invoice_id = il.invoice_id /* Selects all tracks per purchase*/\n",
    "        ) IS NULL \n",
    "\n",
    "        AND\n",
    "\n",
    "/* SECOND PART */\n",
    "        (\n",
    "        SELECT track_id \n",
    "        FROM invoice_line\n",
    "        WHERE invoice_id = il.invoice_id /* Selects all tracks per purchase*/\n",
    "\n",
    "        EXCEPT\n",
    "\n",
    "        SELECT track_id \n",
    "        FROM track\n",
    "        WHERE album_id = t.album_id /* Selects whole album */\n",
    "        ) IS NULL\n",
    "\n",
    "    THEN 'Album'\n",
    "    ELSE 'Individual'\n",
    "```"
   ]
  },
  {
   "cell_type": "markdown",
   "metadata": {},
   "source": [
    "We can see that there are actually just two subqueries repeated twice:"
   ]
  },
  {
   "cell_type": "markdown",
   "metadata": {},
   "source": [
    "```\n",
    "/*SUBQUERY 1*/\n",
    "\n",
    "SELECT track_id \n",
    "FROM track\n",
    "WHERE album_id = t.album_id /* Selects whole album */\n",
    "        \n",
    "/*SUBQUERY 2*/\n",
    "\n",
    "SELECT track_id \n",
    "FROM invoice_line\n",
    "WHERE invoice_id = il.invoice_id /* Selects all tracks per purchase*/      \n",
    "```"
   ]
  },
  {
   "cell_type": "markdown",
   "metadata": {},
   "source": [
    "Acting on each row (refer to the last table) or on each purchase (`invoice_id`), SUBQUERY 1 selects the whole album to which the track belongs to. SUBQUERY 2 selects all the tracks present in the current purchase. \n",
    "\n",
    "Taking the `AND` statement as a division, the first and second parts each compare both subqueries with the `EXCEPT` statement. The `EXCEPT` statement selects rows that occur in the first subquery but do not occur in the second subquery. A `NULL` value is returned if all rows from the first subquery are also in the second subquery. This is why the positions of SUBQUERY 1 and SUBQUERY 2 are interchanged in both parts of the `CASE` statement. \n",
    "\n",
    "Let's say a customer purchases multiple individual tracks from various albums. When the `CASE` statement acts on this purchase, SUBQUERY 1 selects the whole album of the *first* track in the invoice. SUBQUERY 2 selects all the tracks in the invoice. If the first track comes from a **multi-track album**, the first part of the `CASE` statement will return `NOT NULL` since there will be tracks not present in SUBQUERY 2. If the first track comes from a **single-track album**, `NULL` will be returned since all rows (only one in this case) also appear in SUBQUERY 2. If there was not a second part to the `CASE` statement, this would be classified as an *Album* purchase. The second part, which interchanges the positions of both subqueries, prevents this from happening by applying the same logic. Since not all rows from SUBQUERY 2 appear in SUBQUERY 1, `NOT NULL` will be returned. \n",
    "\n",
    "The `CASE` statement above returns *Album* only if both parts return `NULL`. Otherwise, it returns *Individual*. Below are the first 10 rows of the table after classification:"
   ]
  },
  {
   "cell_type": "markdown",
   "metadata": {},
   "source": [
    "|invoice_id\t|invoice_line_id\t|track_id\t|album_id\t|purchase_price\t|purchase_type\n",
    "|:------|:------|:------|:------|:------|:------\n",
    "|1\t|1\t|1158\t|91\t|15.84\t|Album\n",
    "|2\t|17\t|3476\t|322\t|9.9\t|Individual\n",
    "|3\t|27\t|2516\t|203\t|1.98\t|Individual\n",
    "|4\t|29\t|3448\t|314\t|7.92\t|Individual\n",
    "|5\t|37\t|1986\t|163\t|16.83\t|Album\n",
    "|6\t|54\t|1045\t|83\t|1.98\t|Individual\n",
    "|7\t|56\t|3477\t|322\t|10.89\t|Individual\n",
    "|8\t|67\t|2231\t|183\t|9.9\t|Individual\n",
    "|9\t|77\t|206\t|21\t|8.91\t|Individual\n",
    "|10\t|86\t|2663\t|215\t|1.98\t|Individual"
   ]
  },
  {
   "cell_type": "markdown",
   "metadata": {},
   "source": [
    "We can construct our main query to calculate how many of the purchases fall in either type. We will also calculate the percentages of sales for each type. "
   ]
  },
  {
   "cell_type": "markdown",
   "metadata": {},
   "source": [
    "```\n",
    "SELECT\n",
    "    purchase_type,\n",
    "    COUNT(invoice_id) invoice_count,\n",
    "    ROUND(CAST(COUNT(invoice_id) AS FLOAT)/ (\n",
    "                                           SELECT COUNT(*) \n",
    "                                           FROM invoice\n",
    "                                           ), 2) perc_of_purchases,\n",
    "    ROUND(SUM(purchase_price) / (\n",
    "                               SELECT SUM(unit_price) \n",
    "                               FROM invoice_line\n",
    "                               ), 2) perc_of_sales    \n",
    "FROM album_or_individual aoi\n",
    "GROUP BY 1\n",
    "```"
   ]
  },
  {
   "cell_type": "markdown",
   "metadata": {},
   "source": [
    "### Full query: Albums vs. Individual Tracks  "
   ]
  },
  {
   "cell_type": "code",
   "execution_count": 40,
   "metadata": {},
   "outputs": [
    {
     "name": "stdout",
     "output_type": "stream",
     "text": [
      " * sqlite:///chinook.db\n",
      "Done.\n"
     ]
    },
    {
     "data": {
      "text/html": [
       "<table>\n",
       "    <tr>\n",
       "        <th>purchase_type</th>\n",
       "        <th>invoice_count</th>\n",
       "        <th>perc_of_purchases</th>\n",
       "        <th>perc_of_sales</th>\n",
       "    </tr>\n",
       "    <tr>\n",
       "        <td>Album</td>\n",
       "        <td>114</td>\n",
       "        <td>0.19</td>\n",
       "        <td>0.31</td>\n",
       "    </tr>\n",
       "    <tr>\n",
       "        <td>Individual</td>\n",
       "        <td>500</td>\n",
       "        <td>0.81</td>\n",
       "        <td>0.69</td>\n",
       "    </tr>\n",
       "</table>"
      ],
      "text/plain": [
       "[('Album', 114, 0.19, 0.31), ('Individual', 500, 0.81, 0.69)]"
      ]
     },
     "execution_count": 40,
     "metadata": {},
     "output_type": "execute_result"
    }
   ],
   "source": [
    "%%sql\n",
    "WITH album_or_individual AS\n",
    "    (\n",
    "    SELECT\n",
    "        il.invoice_id,\n",
    "        invoice_line_id,\n",
    "        t.track_id,\n",
    "        album_id,\n",
    "        ROUND(SUM(il.unit_price),2) purchase_price,\n",
    "        CASE\n",
    "            WHEN\n",
    "                (\n",
    "                SELECT track_id \n",
    "                FROM track\n",
    "                WHERE album_id = t.album_id /* Selects whole album */\n",
    "\n",
    "                EXCEPT\n",
    "\n",
    "                SELECT track_id \n",
    "                FROM invoice_line\n",
    "                WHERE invoice_id = il.invoice_id /* Selects all tracks per purchase*/\n",
    "                ) IS NULL \n",
    "                \n",
    "                AND\n",
    "        \n",
    "                (\n",
    "                SELECT track_id \n",
    "                FROM invoice_line\n",
    "                WHERE invoice_id = il.invoice_id /* Selects all tracks per purchase*/\n",
    "\n",
    "                EXCEPT\n",
    "\n",
    "                SELECT track_id \n",
    "                FROM track\n",
    "                WHERE album_id = t.album_id /* Selects whole album */\n",
    "                ) IS NULL\n",
    "        \n",
    "            THEN 'Album'\n",
    "            ELSE 'Individual'\n",
    "        END AS purchase_type    \n",
    "    FROM invoice_line il\n",
    "    LEFT JOIN track t ON t.track_id = il.track_id\n",
    "    GROUP BY invoice_id\n",
    "    )\n",
    "    \n",
    "SELECT\n",
    "    purchase_type,\n",
    "    COUNT(invoice_id) invoice_count,\n",
    "    ROUND(CAST(COUNT(invoice_id) AS FLOAT)/ (\n",
    "                                           SELECT COUNT(*) \n",
    "                                           FROM invoice\n",
    "                                           ), 2) perc_of_purchases,\n",
    "    ROUND(SUM(purchase_price) / (\n",
    "                               SELECT SUM(unit_price) \n",
    "                               FROM invoice_line\n",
    "                               ), 2) perc_of_sales    \n",
    "FROM album_or_individual aoi\n",
    "GROUP BY 1"
   ]
  },
  {
   "cell_type": "markdown",
   "metadata": {},
   "source": [
    "Based on the contents of our result set, we can see that the majority of purchases made are those composed of individual tracks. Whole album purchases account for almost 1/5 or almost 20% of customer purchases. In spite of the lower percentage of album purchases, the Chinook team should NOT decide to buy individual tracks excusively. 20% is still a significant portion of their purchases and choosing to not buy whole albums can decrease their sales significantly. This potential effect is affirmed by the 31% figure of sales that can be attributed to album purchases. "
   ]
  },
  {
   "cell_type": "markdown",
   "metadata": {},
   "source": [
    "# Summary \n",
    "<a id='summary'></a>\n",
    "___"
   ]
  },
  {
   "cell_type": "markdown",
   "metadata": {},
   "source": [
    "*Top Genres in the USA*\n",
    "\n",
    "- Among the four albums provided from which they can choose three to add to their inventory, The Chinook team should choose those with the genres Punk, Blues, and Pop. Together, the three genres only make up for around 18% of the total share of songs sold in the USA.\n",
    "\n",
    "*Top Performing Employees*\n",
    "\n",
    "- Jane Peacock had the highest total sales at 1731.51 USD. It is possible, though, that later hire dates had an influence on the total sales that the other two Sales Support Agents made. \n",
    "\n",
    "*Analyzing Sales by Country*\n",
    "\n",
    "- The USA had the highest number of customers and the highest total sales. Czech Republic customers spent the most per purchase. Since customers from the Czech Republic, United Kingdom, and India had the highest expenditures per purchase, focused marketing could be done in these places. More data analysis will have to be done, though, to ensure the robustness of this recommendation. \n",
    "\n",
    "*Albums vs. Individual Tracks*\n",
    "\n",
    "- Individual track purchases accounted for 81% while whole album purchases accounted for 19%. In spite of the lower percentage of album purchases, the Chinook team should NOT decide to buy individual tracks excusively. Since album purchases account for 31% of total sales, doing otherwise could negatively affect Chinook's profits. "
   ]
  }
 ],
 "metadata": {
  "kernelspec": {
   "display_name": "Python 3",
   "language": "python",
   "name": "python3"
  },
  "language_info": {
   "codemirror_mode": {
    "name": "ipython",
    "version": 3
   },
   "file_extension": ".py",
   "mimetype": "text/x-python",
   "name": "python",
   "nbconvert_exporter": "python",
   "pygments_lexer": "ipython3",
   "version": "3.7.7"
  },
  "toc": {
   "base_numbering": 1,
   "nav_menu": {},
   "number_sections": true,
   "sideBar": true,
   "skip_h1_title": false,
   "title_cell": "Table of Contents",
   "title_sidebar": "Contents",
   "toc_cell": false,
   "toc_position": {},
   "toc_section_display": true,
   "toc_window_display": false
  },
  "toc-showcode": false,
  "toc-showmarkdowntxt": false,
  "toc-showtags": false
 },
 "nbformat": 4,
 "nbformat_minor": 4
}
